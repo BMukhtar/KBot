{
 "cells": [
  {
   "cell_type": "code",
   "execution_count": 16,
   "metadata": {},
   "outputs": [
    {
     "data": {
      "text/plain": "'\\nInitial setup:\\n1) create virtualenv project using pycharm\\n\\n2) install the following libraries to virtualenv:\\npip install numpy\\npip install pandas\\npip install requests\\npip install beautifulsoup4\\npip install lxml\\n'"
     },
     "execution_count": 16,
     "metadata": {},
     "output_type": "execute_result"
    }
   ],
   "source": [
    "\"\"\"\n",
    "Initial setup:\n",
    "1) create virtualenv project using pycharm\n",
    "\n",
    "2) install the following libraries to virtualenv:\n",
    "pip install numpy\n",
    "pip install pandas\n",
    "pip install requests\n",
    "pip install beautifulsoup4\n",
    "pip install lxml\n",
    "\"\"\""
   ]
  },
  {
   "cell_type": "code",
   "execution_count": 19,
   "outputs": [],
   "source": [
    "import requests  # library to send requests to web site(krisha.kz)\n",
    "from bs4 import BeautifulSoup as bs  # library to copy all html-code\n",
    "import time\n",
    "import math\n",
    "import re\n",
    "import json\n",
    "from lxml import html\n",
    "import regex\n",
    "import pandas as pd"
   ],
   "metadata": {
    "collapsed": false
   }
  },
  {
   "cell_type": "code",
   "execution_count": 24,
   "outputs": [
    {
     "name": "stdout",
     "output_type": "stream",
     "text": [
      "parsing: https://kaspi.kz/shop/c/notebooks/\n",
      "parsing: https://kaspi.kz/shop/c/notebooks/?page=2\n",
      "parsing: https://kaspi.kz/shop/c/notebooks/?page=3\n"
     ]
    }
   ],
   "source": [
    "headers = {\n",
    "    'accept': '*/*',\n",
    "    'User-Agent': 'Mozilla/5.0 (Macintosh; Intel Mac OS X 10_15_7) AppleWebKit/537.36 (KHTML, like Gecko) Chrome/106.0.0.0 Safari/537.36'\n",
    "}\n",
    "\n",
    "items_per_page = 12\n",
    "\n",
    "def get_all_pages(catalog_page_url):\n",
    "    urls = []\n",
    "    urls.append(catalog_page_url)\n",
    "    session = requests.Session()\n",
    "    request = session.get(catalog_page_url, headers=headers)\n",
    "\n",
    "    if request.status_code == 200:\n",
    "        soup = bs(request.content, 'lxml')\n",
    "        try:\n",
    "            pagination = soup.select('li.tree__item._expanded._active')\n",
    "            total_items = int(re.sub('\\D', '', pagination[0].text))\n",
    "            pages = math.ceil(total_items / items_per_page)\n",
    "            for i in range(2, pages):\n",
    "                url = catalog_page_url + '?page={i}'.format(i=i)\n",
    "                if url not in urls:\n",
    "                    urls.append(url)\n",
    "        except Exception as e:\n",
    "            print(\"exception while getting all page urls: \" + e)\n",
    "            pass\n",
    "    return urls\n",
    "\n",
    "def parse_kaspi_pages(urls):\n",
    "    items = []\n",
    "    session = requests.Session()\n",
    "    c = 0\n",
    "    for url in urls:\n",
    "        time.sleep(1)\n",
    "        print(\"parsing: \" + url)\n",
    "        request = session.get(url, headers=headers)\n",
    "        tree = html.fromstring(request.content)\n",
    "        script = tree.xpath('//script[contains(., \"BACKEND.components.catalogGrid\")]/text()')[0]\n",
    "        data = regex.compile(r\"\\{(?:[^{}]|(?R))*\\}\").findall(str(script))[0]\n",
    "        all_data = json.loads(data)\n",
    "        cards = all_data[\"cards\"]\n",
    "        for card in cards:\n",
    "            card.pop(\"monthlyInstallment\", None)\n",
    "            card.pop(\"previewImages\", None)\n",
    "            card.pop(\"category\", None)\n",
    "        items += cards\n",
    "        c += 1\n",
    "        if c > 2:\n",
    "            break\n",
    "    return items\n",
    "\n",
    "base_url = 'https://kaspi.kz/shop/c/notebooks/'\n",
    "urls = get_all_pages(base_url)\n",
    "items = parse_kaspi_pages(urls)\n",
    "df = pd.json_normalize(items)\n",
    "df.to_csv('csvfile.csv', encoding='utf-8', index=False)"
   ],
   "metadata": {
    "collapsed": false
   }
  },
  {
   "cell_type": "code",
   "execution_count": 22,
   "outputs": [
    {
     "name": "stdout",
     "output_type": "stream",
     "text": [
      "{'brand': 'Lenovo', 'color': 'серый', 'full_name': 'Lenovo V14-ADA 82C6S03900', 'price': '184800', 'rating': '297'}\n"
     ]
    }
   ],
   "source": [
    "import csv\n",
    "\n",
    "items = []\n",
    "with open('Kaspi_data.csv', newline='') as csvfile:\n",
    "    spamreader = csv.reader(csvfile, delimiter=',')\n",
    "    initial = True\n",
    "    for row in spamreader:\n",
    "        if not initial:\n",
    "            title = row[0].split(\" \")\n",
    "            price = re.sub('\\D', '', row[1])\n",
    "            rating = row[2]\n",
    "\n",
    "            items.append({\n",
    "                'brand': title[0],\n",
    "                'color': title[-1],\n",
    "                'full_name': ' '.join(title[:-1]),\n",
    "                'price': price,\n",
    "                'rating': rating,\n",
    "            })\n",
    "        else:\n",
    "            initial = False\n",
    "\n",
    "print(items[0])\n",
    "def files_writer(items):\n",
    "    # with open('HeadHunter.csv', 'a', encoding='utf-8') as file:\n",
    "    with open(r\"Kaspi_data.csv\", \"w\", encoding='utf-8') as file:\n",
    "        a_pen = csv.writer(file)\n",
    "        a_pen.writerow(('brand', 'color', 'full_name', 'price', 'rating'))\n",
    "        for item in items:\n",
    "            a_pen.writerow((item['brand'], item['color'], item['full_name'], item['price'], item['rating']))\n",
    "\n",
    "files_writer(items)"
   ],
   "metadata": {
    "collapsed": false
   }
  }
 ],
 "metadata": {
  "kernelspec": {
   "display_name": "Python 3 (ipykernel)",
   "language": "python",
   "name": "python3"
  },
  "language_info": {
   "codemirror_mode": {
    "name": "ipython",
    "version": 3
   },
   "file_extension": ".py",
   "mimetype": "text/x-python",
   "name": "python",
   "nbconvert_exporter": "python",
   "pygments_lexer": "ipython3",
   "version": "3.10.6"
  }
 },
 "nbformat": 4,
 "nbformat_minor": 2
}
