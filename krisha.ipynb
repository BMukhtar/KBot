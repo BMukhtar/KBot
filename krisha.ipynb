{
 "cells": [
  {
   "cell_type": "code",
   "execution_count": 11,
   "metadata": {},
   "outputs": [
    {
     "data": {
      "text/plain": "'\\nInitial setup:\\n1) create virtualenv project using pycharm\\n\\n2) install the following libraries to virtualenv:\\npip install numpy\\npip install pandas\\npip install requests\\npip install beautifulsoup4\\npip install lxml\\n'"
     },
     "execution_count": 11,
     "metadata": {},
     "output_type": "execute_result"
    }
   ],
   "source": [
    "\"\"\"\n",
    "Initial setup:\n",
    "1) create virtualenv project using pycharm\n",
    "\n",
    "2) install the following libraries to virtualenv:\n",
    "pip install numpy\n",
    "pip install pandas\n",
    "pip install requests\n",
    "pip install beautifulsoup4\n",
    "pip install lxml\n",
    "\"\"\""
   ]
  },
  {
   "cell_type": "code",
   "execution_count": 12,
   "outputs": [],
   "source": [
    "import requests  # library to send requests to web site(krisha.kz)\n",
    "from bs4 import BeautifulSoup as bs  # library to copy all html-code\n",
    "import csv  # library to write info to csv\n",
    "import pandas as pd  # to convert csv to pandas DataFrame\n",
    "import numpy as np  # to work np. arrays\n",
    "import time"
   ],
   "metadata": {
    "collapsed": false
   }
  },
  {
   "cell_type": "code",
   "execution_count": 13,
   "outputs": [
    {
     "name": "stdout",
     "output_type": "stream",
     "text": [
      "parsing: https://krisha.kz/arenda/kvartiry/almaty/?das[rent.period]=2\n",
      "parsing: https://krisha.kz/arenda/kvartiry/almaty/?das[rent.period]=2&page=2\n",
      "parsing: https://krisha.kz/arenda/kvartiry/almaty/?das[rent.period]=2&page=3\n",
      "parsing: https://krisha.kz/arenda/kvartiry/almaty/?das[rent.period]=2&page=4\n",
      "parsing: https://krisha.kz/arenda/kvartiry/almaty/?das[rent.period]=2&page=5\n",
      "parsing: https://krisha.kz/arenda/kvartiry/almaty/?das[rent.period]=2&page=6\n",
      "parsing: https://krisha.kz/arenda/kvartiry/almaty/?das[rent.period]=2&page=7\n",
      "parsing: https://krisha.kz/arenda/kvartiry/almaty/?das[rent.period]=2&page=8\n",
      "parsing: https://krisha.kz/arenda/kvartiry/almaty/?das[rent.period]=2&page=9\n",
      "parsing: https://krisha.kz/arenda/kvartiry/almaty/?das[rent.period]=2&page=10\n",
      "parsing: https://krisha.kz/arenda/kvartiry/almaty/?das[rent.period]=2&page=11\n",
      "parsing: https://krisha.kz/arenda/kvartiry/almaty/?das[rent.period]=2&page=12\n",
      "parsing: https://krisha.kz/arenda/kvartiry/almaty/?das[rent.period]=2&page=13\n",
      "parsing: https://krisha.kz/arenda/kvartiry/almaty/?das[rent.period]=2&page=14\n",
      "parsing: https://krisha.kz/arenda/kvartiry/almaty/?das[rent.period]=2&page=15\n",
      "parsing: https://krisha.kz/arenda/kvartiry/almaty/?das[rent.period]=2&page=16\n",
      "parsing: https://krisha.kz/arenda/kvartiry/almaty/?das[rent.period]=2&page=17\n",
      "parsing: https://krisha.kz/arenda/kvartiry/almaty/?das[rent.period]=2&page=18\n",
      "parsing: https://krisha.kz/arenda/kvartiry/almaty/?das[rent.period]=2&page=19\n",
      "parsing: https://krisha.kz/arenda/kvartiry/almaty/?das[rent.period]=2&page=20\n",
      "parsing: https://krisha.kz/arenda/kvartiry/almaty/?das[rent.period]=2&page=21\n",
      "parsing: https://krisha.kz/arenda/kvartiry/almaty/?das[rent.period]=2&page=22\n",
      "parsing: https://krisha.kz/arenda/kvartiry/almaty/?das[rent.period]=2&page=23\n",
      "parsing: https://krisha.kz/arenda/kvartiry/almaty/?das[rent.period]=2&page=24\n",
      "parsing: https://krisha.kz/arenda/kvartiry/almaty/?das[rent.period]=2&page=25\n",
      "parsing: https://krisha.kz/arenda/kvartiry/almaty/?das[rent.period]=2&page=26\n",
      "parsing: https://krisha.kz/arenda/kvartiry/almaty/?das[rent.period]=2&page=27\n",
      "parsing: https://krisha.kz/arenda/kvartiry/almaty/?das[rent.period]=2&page=28\n",
      "parsing: https://krisha.kz/arenda/kvartiry/almaty/?das[rent.period]=2&page=29\n",
      "parsing: https://krisha.kz/arenda/kvartiry/almaty/?das[rent.period]=2&page=30\n",
      "parsing: https://krisha.kz/arenda/kvartiry/almaty/?das[rent.period]=2&page=31\n",
      "parsing: https://krisha.kz/arenda/kvartiry/almaty/?das[rent.period]=2&page=32\n",
      "parsing: https://krisha.kz/arenda/kvartiry/almaty/?das[rent.period]=2&page=33\n",
      "parsing: https://krisha.kz/arenda/kvartiry/almaty/?das[rent.period]=2&page=34\n",
      "parsing: https://krisha.kz/arenda/kvartiry/almaty/?das[rent.period]=2&page=35\n",
      "parsing: https://krisha.kz/arenda/kvartiry/almaty/?das[rent.period]=2&page=36\n",
      "parsing: https://krisha.kz/arenda/kvartiry/almaty/?das[rent.period]=2&page=37\n",
      "parsing: https://krisha.kz/arenda/kvartiry/almaty/?das[rent.period]=2&page=38\n",
      "parsing: https://krisha.kz/arenda/kvartiry/almaty/?das[rent.period]=2&page=39\n",
      "parsing: https://krisha.kz/arenda/kvartiry/almaty/?das[rent.period]=2&page=40\n",
      "parsing: https://krisha.kz/arenda/kvartiry/almaty/?das[rent.period]=2&page=41\n",
      "parsing: https://krisha.kz/arenda/kvartiry/almaty/?das[rent.period]=2&page=42\n",
      "parsing: https://krisha.kz/arenda/kvartiry/almaty/?das[rent.period]=2&page=43\n",
      "parsing: https://krisha.kz/arenda/kvartiry/almaty/?das[rent.period]=2&page=44\n",
      "parsing: https://krisha.kz/arenda/kvartiry/almaty/?das[rent.period]=2&page=45\n",
      "parsing: https://krisha.kz/arenda/kvartiry/almaty/?das[rent.period]=2&page=46\n",
      "parsing: https://krisha.kz/arenda/kvartiry/almaty/?das[rent.period]=2&page=47\n",
      "parsing: https://krisha.kz/arenda/kvartiry/almaty/?das[rent.period]=2&page=48\n",
      "parsing: https://krisha.kz/arenda/kvartiry/almaty/?das[rent.period]=2&page=49\n",
      "parsing: https://krisha.kz/arenda/kvartiry/almaty/?das[rent.period]=2&page=50\n",
      "parsing: https://krisha.kz/arenda/kvartiry/almaty/?das[rent.period]=2&page=51\n",
      "parsing: https://krisha.kz/arenda/kvartiry/almaty/?das[rent.period]=2&page=52\n",
      "parsing: https://krisha.kz/arenda/kvartiry/almaty/?das[rent.period]=2&page=53\n",
      "parsing: https://krisha.kz/arenda/kvartiry/almaty/?das[rent.period]=2&page=54\n",
      "parsing: https://krisha.kz/arenda/kvartiry/almaty/?das[rent.period]=2&page=55\n",
      "parsing: https://krisha.kz/arenda/kvartiry/almaty/?das[rent.period]=2&page=56\n",
      "parsing: https://krisha.kz/arenda/kvartiry/almaty/?das[rent.period]=2&page=57\n",
      "parsing: https://krisha.kz/arenda/kvartiry/almaty/?das[rent.period]=2&page=58\n",
      "parsing: https://krisha.kz/arenda/kvartiry/almaty/?das[rent.period]=2&page=59\n",
      "parsing: https://krisha.kz/arenda/kvartiry/almaty/?das[rent.period]=2&page=60\n",
      "parsing: https://krisha.kz/arenda/kvartiry/almaty/?das[rent.period]=2&page=61\n",
      "parsing: https://krisha.kz/arenda/kvartiry/almaty/?das[rent.period]=2&page=62\n",
      "parsing: https://krisha.kz/arenda/kvartiry/almaty/?das[rent.period]=2&page=63\n",
      "parsing: https://krisha.kz/arenda/kvartiry/almaty/?das[rent.period]=2&page=64\n",
      "parsing: https://krisha.kz/arenda/kvartiry/almaty/?das[rent.period]=2&page=65\n",
      "parsing: https://krisha.kz/arenda/kvartiry/almaty/?das[rent.period]=2&page=66\n",
      "parsing: https://krisha.kz/arenda/kvartiry/almaty/?das[rent.period]=2&page=67\n",
      "parsing: https://krisha.kz/arenda/kvartiry/almaty/?das[rent.period]=2&page=68\n",
      "parsing: https://krisha.kz/arenda/kvartiry/almaty/?das[rent.period]=2&page=69\n",
      "parsing: https://krisha.kz/arenda/kvartiry/almaty/?das[rent.period]=2&page=70\n",
      "parsing: https://krisha.kz/arenda/kvartiry/almaty/?das[rent.period]=2&page=71\n",
      "parsing: https://krisha.kz/arenda/kvartiry/almaty/?das[rent.period]=2&page=72\n",
      "parsing: https://krisha.kz/arenda/kvartiry/almaty/?das[rent.period]=2&page=73\n",
      "parsing: https://krisha.kz/arenda/kvartiry/almaty/?das[rent.period]=2&page=74\n",
      "parsing: https://krisha.kz/arenda/kvartiry/almaty/?das[rent.period]=2&page=75\n",
      "parsing: https://krisha.kz/arenda/kvartiry/almaty/?das[rent.period]=2&page=76\n",
      "parsing: https://krisha.kz/arenda/kvartiry/almaty/?das[rent.period]=2&page=77\n",
      "parsing: https://krisha.kz/arenda/kvartiry/almaty/?das[rent.period]=2&page=78\n",
      "parsing: https://krisha.kz/arenda/kvartiry/almaty/?das[rent.period]=2&page=79\n",
      "parsing: https://krisha.kz/arenda/kvartiry/almaty/?das[rent.period]=2&page=80\n",
      "parsing: https://krisha.kz/arenda/kvartiry/almaty/?das[rent.period]=2&page=81\n",
      "parsing: https://krisha.kz/arenda/kvartiry/almaty/?das[rent.period]=2&page=82\n",
      "parsing: https://krisha.kz/arenda/kvartiry/almaty/?das[rent.period]=2&page=83\n",
      "parsing: https://krisha.kz/arenda/kvartiry/almaty/?das[rent.period]=2&page=84\n",
      "parsing: https://krisha.kz/arenda/kvartiry/almaty/?das[rent.period]=2&page=85\n",
      "parsing: https://krisha.kz/arenda/kvartiry/almaty/?das[rent.period]=2&page=86\n",
      "parsing: https://krisha.kz/arenda/kvartiry/almaty/?das[rent.period]=2&page=87\n",
      "parsing: https://krisha.kz/arenda/kvartiry/almaty/?das[rent.period]=2&page=88\n",
      "parsing: https://krisha.kz/arenda/kvartiry/almaty/?das[rent.period]=2&page=89\n",
      "parsing: https://krisha.kz/arenda/kvartiry/almaty/?das[rent.period]=2&page=90\n",
      "parsing: https://krisha.kz/arenda/kvartiry/almaty/?das[rent.period]=2&page=91\n",
      "parsing: https://krisha.kz/arenda/kvartiry/almaty/?das[rent.period]=2&page=92\n",
      "parsing: https://krisha.kz/arenda/kvartiry/almaty/?das[rent.period]=2&page=93\n",
      "parsing: https://krisha.kz/arenda/kvartiry/almaty/?das[rent.period]=2&page=94\n",
      "parsing: https://krisha.kz/arenda/kvartiry/almaty/?das[rent.period]=2&page=95\n",
      "parsing: https://krisha.kz/arenda/kvartiry/almaty/?das[rent.period]=2&page=96\n",
      "parsing: https://krisha.kz/arenda/kvartiry/almaty/?das[rent.period]=2&page=97\n",
      "parsing: https://krisha.kz/arenda/kvartiry/almaty/?das[rent.period]=2&page=98\n",
      "parsing: https://krisha.kz/arenda/kvartiry/almaty/?das[rent.period]=2&page=99\n",
      "parsing: https://krisha.kz/arenda/kvartiry/almaty/?das[rent.period]=2&page=100\n",
      "parsing: https://krisha.kz/arenda/kvartiry/almaty/?das[rent.period]=2&page=101\n",
      "parsing: https://krisha.kz/arenda/kvartiry/almaty/?das[rent.period]=2&page=102\n",
      "parsing: https://krisha.kz/arenda/kvartiry/almaty/?das[rent.period]=2&page=103\n",
      "parsing: https://krisha.kz/arenda/kvartiry/almaty/?das[rent.period]=2&page=104\n",
      "parsing: https://krisha.kz/arenda/kvartiry/almaty/?das[rent.period]=2&page=105\n",
      "parsing: https://krisha.kz/arenda/kvartiry/almaty/?das[rent.period]=2&page=106\n",
      "parsing: https://krisha.kz/arenda/kvartiry/almaty/?das[rent.period]=2&page=107\n",
      "parsing: https://krisha.kz/arenda/kvartiry/almaty/?das[rent.period]=2&page=108\n",
      "parsing: https://krisha.kz/arenda/kvartiry/almaty/?das[rent.period]=2&page=109\n",
      "parsing: https://krisha.kz/arenda/kvartiry/almaty/?das[rent.period]=2&page=110\n",
      "parsing: https://krisha.kz/arenda/kvartiry/almaty/?das[rent.period]=2&page=111\n",
      "parsing: https://krisha.kz/arenda/kvartiry/almaty/?das[rent.period]=2&page=112\n",
      "parsing: https://krisha.kz/arenda/kvartiry/almaty/?das[rent.period]=2&page=113\n",
      "parsing: https://krisha.kz/arenda/kvartiry/almaty/?das[rent.period]=2&page=114\n",
      "parsing: https://krisha.kz/arenda/kvartiry/almaty/?das[rent.period]=2&page=115\n",
      "parsing: https://krisha.kz/arenda/kvartiry/almaty/?das[rent.period]=2&page=116\n",
      "parsing: https://krisha.kz/arenda/kvartiry/almaty/?das[rent.period]=2&page=117\n",
      "parsing: https://krisha.kz/arenda/kvartiry/almaty/?das[rent.period]=2&page=118\n",
      "parsing: https://krisha.kz/arenda/kvartiry/almaty/?das[rent.period]=2&page=119\n",
      "parsing: https://krisha.kz/arenda/kvartiry/almaty/?das[rent.period]=2&page=120\n",
      "parsing: https://krisha.kz/arenda/kvartiry/almaty/?das[rent.period]=2&page=121\n",
      "parsing: https://krisha.kz/arenda/kvartiry/almaty/?das[rent.period]=2&page=122\n"
     ]
    },
    {
     "ename": "ReadTimeout",
     "evalue": "HTTPSConnectionPool(host='krisha.kz', port=443): Read timed out. (read timeout=None)",
     "output_type": "error",
     "traceback": [
      "\u001B[0;31m---------------------------------------------------------------------------\u001B[0m",
      "\u001B[0;31mTimeoutError\u001B[0m                              Traceback (most recent call last)",
      "File \u001B[0;32m~/PycharmProjects/KaspiBot/venv/lib/python3.9/site-packages/urllib3/connectionpool.py:449\u001B[0m, in \u001B[0;36mHTTPConnectionPool._make_request\u001B[0;34m(self, conn, method, url, timeout, chunked, **httplib_request_kw)\u001B[0m\n\u001B[1;32m    445\u001B[0m         \u001B[38;5;28;01mexcept\u001B[39;00m \u001B[38;5;167;01mBaseException\u001B[39;00m \u001B[38;5;28;01mas\u001B[39;00m e:\n\u001B[1;32m    446\u001B[0m             \u001B[38;5;66;03m# Remove the TypeError from the exception chain in\u001B[39;00m\n\u001B[1;32m    447\u001B[0m             \u001B[38;5;66;03m# Python 3 (including for exceptions like SystemExit).\u001B[39;00m\n\u001B[1;32m    448\u001B[0m             \u001B[38;5;66;03m# Otherwise it looks like a bug in the code.\u001B[39;00m\n\u001B[0;32m--> 449\u001B[0m             \u001B[43msix\u001B[49m\u001B[38;5;241;43m.\u001B[39;49m\u001B[43mraise_from\u001B[49m\u001B[43m(\u001B[49m\u001B[43me\u001B[49m\u001B[43m,\u001B[49m\u001B[43m \u001B[49m\u001B[38;5;28;43;01mNone\u001B[39;49;00m\u001B[43m)\u001B[49m\n\u001B[1;32m    450\u001B[0m \u001B[38;5;28;01mexcept\u001B[39;00m (SocketTimeout, BaseSSLError, SocketError) \u001B[38;5;28;01mas\u001B[39;00m e:\n",
      "File \u001B[0;32m<string>:3\u001B[0m, in \u001B[0;36mraise_from\u001B[0;34m(value, from_value)\u001B[0m\n",
      "File \u001B[0;32m~/PycharmProjects/KaspiBot/venv/lib/python3.9/site-packages/urllib3/connectionpool.py:444\u001B[0m, in \u001B[0;36mHTTPConnectionPool._make_request\u001B[0;34m(self, conn, method, url, timeout, chunked, **httplib_request_kw)\u001B[0m\n\u001B[1;32m    443\u001B[0m \u001B[38;5;28;01mtry\u001B[39;00m:\n\u001B[0;32m--> 444\u001B[0m     httplib_response \u001B[38;5;241m=\u001B[39m \u001B[43mconn\u001B[49m\u001B[38;5;241;43m.\u001B[39;49m\u001B[43mgetresponse\u001B[49m\u001B[43m(\u001B[49m\u001B[43m)\u001B[49m\n\u001B[1;32m    445\u001B[0m \u001B[38;5;28;01mexcept\u001B[39;00m \u001B[38;5;167;01mBaseException\u001B[39;00m \u001B[38;5;28;01mas\u001B[39;00m e:\n\u001B[1;32m    446\u001B[0m     \u001B[38;5;66;03m# Remove the TypeError from the exception chain in\u001B[39;00m\n\u001B[1;32m    447\u001B[0m     \u001B[38;5;66;03m# Python 3 (including for exceptions like SystemExit).\u001B[39;00m\n\u001B[1;32m    448\u001B[0m     \u001B[38;5;66;03m# Otherwise it looks like a bug in the code.\u001B[39;00m\n",
      "File \u001B[0;32m/Library/Developer/CommandLineTools/Library/Frameworks/Python3.framework/Versions/3.9/lib/python3.9/http/client.py:1349\u001B[0m, in \u001B[0;36mHTTPConnection.getresponse\u001B[0;34m(self)\u001B[0m\n\u001B[1;32m   1348\u001B[0m \u001B[38;5;28;01mtry\u001B[39;00m:\n\u001B[0;32m-> 1349\u001B[0m     \u001B[43mresponse\u001B[49m\u001B[38;5;241;43m.\u001B[39;49m\u001B[43mbegin\u001B[49m\u001B[43m(\u001B[49m\u001B[43m)\u001B[49m\n\u001B[1;32m   1350\u001B[0m \u001B[38;5;28;01mexcept\u001B[39;00m \u001B[38;5;167;01mConnectionError\u001B[39;00m:\n",
      "File \u001B[0;32m/Library/Developer/CommandLineTools/Library/Frameworks/Python3.framework/Versions/3.9/lib/python3.9/http/client.py:316\u001B[0m, in \u001B[0;36mHTTPResponse.begin\u001B[0;34m(self)\u001B[0m\n\u001B[1;32m    315\u001B[0m \u001B[38;5;28;01mwhile\u001B[39;00m \u001B[38;5;28;01mTrue\u001B[39;00m:\n\u001B[0;32m--> 316\u001B[0m     version, status, reason \u001B[38;5;241m=\u001B[39m \u001B[38;5;28;43mself\u001B[39;49m\u001B[38;5;241;43m.\u001B[39;49m\u001B[43m_read_status\u001B[49m\u001B[43m(\u001B[49m\u001B[43m)\u001B[49m\n\u001B[1;32m    317\u001B[0m     \u001B[38;5;28;01mif\u001B[39;00m status \u001B[38;5;241m!=\u001B[39m CONTINUE:\n",
      "File \u001B[0;32m/Library/Developer/CommandLineTools/Library/Frameworks/Python3.framework/Versions/3.9/lib/python3.9/http/client.py:277\u001B[0m, in \u001B[0;36mHTTPResponse._read_status\u001B[0;34m(self)\u001B[0m\n\u001B[1;32m    276\u001B[0m \u001B[38;5;28;01mdef\u001B[39;00m \u001B[38;5;21m_read_status\u001B[39m(\u001B[38;5;28mself\u001B[39m):\n\u001B[0;32m--> 277\u001B[0m     line \u001B[38;5;241m=\u001B[39m \u001B[38;5;28mstr\u001B[39m(\u001B[38;5;28;43mself\u001B[39;49m\u001B[38;5;241;43m.\u001B[39;49m\u001B[43mfp\u001B[49m\u001B[38;5;241;43m.\u001B[39;49m\u001B[43mreadline\u001B[49m\u001B[43m(\u001B[49m\u001B[43m_MAXLINE\u001B[49m\u001B[43m \u001B[49m\u001B[38;5;241;43m+\u001B[39;49m\u001B[43m \u001B[49m\u001B[38;5;241;43m1\u001B[39;49m\u001B[43m)\u001B[49m, \u001B[38;5;124m\"\u001B[39m\u001B[38;5;124miso-8859-1\u001B[39m\u001B[38;5;124m\"\u001B[39m)\n\u001B[1;32m    278\u001B[0m     \u001B[38;5;28;01mif\u001B[39;00m \u001B[38;5;28mlen\u001B[39m(line) \u001B[38;5;241m>\u001B[39m _MAXLINE:\n",
      "File \u001B[0;32m/Library/Developer/CommandLineTools/Library/Frameworks/Python3.framework/Versions/3.9/lib/python3.9/socket.py:704\u001B[0m, in \u001B[0;36mSocketIO.readinto\u001B[0;34m(self, b)\u001B[0m\n\u001B[1;32m    703\u001B[0m \u001B[38;5;28;01mtry\u001B[39;00m:\n\u001B[0;32m--> 704\u001B[0m     \u001B[38;5;28;01mreturn\u001B[39;00m \u001B[38;5;28;43mself\u001B[39;49m\u001B[38;5;241;43m.\u001B[39;49m\u001B[43m_sock\u001B[49m\u001B[38;5;241;43m.\u001B[39;49m\u001B[43mrecv_into\u001B[49m\u001B[43m(\u001B[49m\u001B[43mb\u001B[49m\u001B[43m)\u001B[49m\n\u001B[1;32m    705\u001B[0m \u001B[38;5;28;01mexcept\u001B[39;00m timeout:\n",
      "File \u001B[0;32m/Library/Developer/CommandLineTools/Library/Frameworks/Python3.framework/Versions/3.9/lib/python3.9/ssl.py:1241\u001B[0m, in \u001B[0;36mSSLSocket.recv_into\u001B[0;34m(self, buffer, nbytes, flags)\u001B[0m\n\u001B[1;32m   1238\u001B[0m         \u001B[38;5;28;01mraise\u001B[39;00m \u001B[38;5;167;01mValueError\u001B[39;00m(\n\u001B[1;32m   1239\u001B[0m           \u001B[38;5;124m\"\u001B[39m\u001B[38;5;124mnon-zero flags not allowed in calls to recv_into() on \u001B[39m\u001B[38;5;132;01m%s\u001B[39;00m\u001B[38;5;124m\"\u001B[39m \u001B[38;5;241m%\u001B[39m\n\u001B[1;32m   1240\u001B[0m           \u001B[38;5;28mself\u001B[39m\u001B[38;5;241m.\u001B[39m\u001B[38;5;18m__class__\u001B[39m)\n\u001B[0;32m-> 1241\u001B[0m     \u001B[38;5;28;01mreturn\u001B[39;00m \u001B[38;5;28;43mself\u001B[39;49m\u001B[38;5;241;43m.\u001B[39;49m\u001B[43mread\u001B[49m\u001B[43m(\u001B[49m\u001B[43mnbytes\u001B[49m\u001B[43m,\u001B[49m\u001B[43m \u001B[49m\u001B[43mbuffer\u001B[49m\u001B[43m)\u001B[49m\n\u001B[1;32m   1242\u001B[0m \u001B[38;5;28;01melse\u001B[39;00m:\n",
      "File \u001B[0;32m/Library/Developer/CommandLineTools/Library/Frameworks/Python3.framework/Versions/3.9/lib/python3.9/ssl.py:1099\u001B[0m, in \u001B[0;36mSSLSocket.read\u001B[0;34m(self, len, buffer)\u001B[0m\n\u001B[1;32m   1098\u001B[0m \u001B[38;5;28;01mif\u001B[39;00m buffer \u001B[38;5;129;01mis\u001B[39;00m \u001B[38;5;129;01mnot\u001B[39;00m \u001B[38;5;28;01mNone\u001B[39;00m:\n\u001B[0;32m-> 1099\u001B[0m     \u001B[38;5;28;01mreturn\u001B[39;00m \u001B[38;5;28;43mself\u001B[39;49m\u001B[38;5;241;43m.\u001B[39;49m\u001B[43m_sslobj\u001B[49m\u001B[38;5;241;43m.\u001B[39;49m\u001B[43mread\u001B[49m\u001B[43m(\u001B[49m\u001B[38;5;28;43mlen\u001B[39;49m\u001B[43m,\u001B[49m\u001B[43m \u001B[49m\u001B[43mbuffer\u001B[49m\u001B[43m)\u001B[49m\n\u001B[1;32m   1100\u001B[0m \u001B[38;5;28;01melse\u001B[39;00m:\n",
      "\u001B[0;31mTimeoutError\u001B[0m: [Errno 60] Operation timed out",
      "\nDuring handling of the above exception, another exception occurred:\n",
      "\u001B[0;31mReadTimeoutError\u001B[0m                          Traceback (most recent call last)",
      "File \u001B[0;32m~/PycharmProjects/KaspiBot/venv/lib/python3.9/site-packages/requests/adapters.py:489\u001B[0m, in \u001B[0;36mHTTPAdapter.send\u001B[0;34m(self, request, stream, timeout, verify, cert, proxies)\u001B[0m\n\u001B[1;32m    488\u001B[0m \u001B[38;5;28;01mif\u001B[39;00m \u001B[38;5;129;01mnot\u001B[39;00m chunked:\n\u001B[0;32m--> 489\u001B[0m     resp \u001B[38;5;241m=\u001B[39m \u001B[43mconn\u001B[49m\u001B[38;5;241;43m.\u001B[39;49m\u001B[43murlopen\u001B[49m\u001B[43m(\u001B[49m\n\u001B[1;32m    490\u001B[0m \u001B[43m        \u001B[49m\u001B[43mmethod\u001B[49m\u001B[38;5;241;43m=\u001B[39;49m\u001B[43mrequest\u001B[49m\u001B[38;5;241;43m.\u001B[39;49m\u001B[43mmethod\u001B[49m\u001B[43m,\u001B[49m\n\u001B[1;32m    491\u001B[0m \u001B[43m        \u001B[49m\u001B[43murl\u001B[49m\u001B[38;5;241;43m=\u001B[39;49m\u001B[43murl\u001B[49m\u001B[43m,\u001B[49m\n\u001B[1;32m    492\u001B[0m \u001B[43m        \u001B[49m\u001B[43mbody\u001B[49m\u001B[38;5;241;43m=\u001B[39;49m\u001B[43mrequest\u001B[49m\u001B[38;5;241;43m.\u001B[39;49m\u001B[43mbody\u001B[49m\u001B[43m,\u001B[49m\n\u001B[1;32m    493\u001B[0m \u001B[43m        \u001B[49m\u001B[43mheaders\u001B[49m\u001B[38;5;241;43m=\u001B[39;49m\u001B[43mrequest\u001B[49m\u001B[38;5;241;43m.\u001B[39;49m\u001B[43mheaders\u001B[49m\u001B[43m,\u001B[49m\n\u001B[1;32m    494\u001B[0m \u001B[43m        \u001B[49m\u001B[43mredirect\u001B[49m\u001B[38;5;241;43m=\u001B[39;49m\u001B[38;5;28;43;01mFalse\u001B[39;49;00m\u001B[43m,\u001B[49m\n\u001B[1;32m    495\u001B[0m \u001B[43m        \u001B[49m\u001B[43massert_same_host\u001B[49m\u001B[38;5;241;43m=\u001B[39;49m\u001B[38;5;28;43;01mFalse\u001B[39;49;00m\u001B[43m,\u001B[49m\n\u001B[1;32m    496\u001B[0m \u001B[43m        \u001B[49m\u001B[43mpreload_content\u001B[49m\u001B[38;5;241;43m=\u001B[39;49m\u001B[38;5;28;43;01mFalse\u001B[39;49;00m\u001B[43m,\u001B[49m\n\u001B[1;32m    497\u001B[0m \u001B[43m        \u001B[49m\u001B[43mdecode_content\u001B[49m\u001B[38;5;241;43m=\u001B[39;49m\u001B[38;5;28;43;01mFalse\u001B[39;49;00m\u001B[43m,\u001B[49m\n\u001B[1;32m    498\u001B[0m \u001B[43m        \u001B[49m\u001B[43mretries\u001B[49m\u001B[38;5;241;43m=\u001B[39;49m\u001B[38;5;28;43mself\u001B[39;49m\u001B[38;5;241;43m.\u001B[39;49m\u001B[43mmax_retries\u001B[49m\u001B[43m,\u001B[49m\n\u001B[1;32m    499\u001B[0m \u001B[43m        \u001B[49m\u001B[43mtimeout\u001B[49m\u001B[38;5;241;43m=\u001B[39;49m\u001B[43mtimeout\u001B[49m\u001B[43m,\u001B[49m\n\u001B[1;32m    500\u001B[0m \u001B[43m    \u001B[49m\u001B[43m)\u001B[49m\n\u001B[1;32m    502\u001B[0m \u001B[38;5;66;03m# Send the request.\u001B[39;00m\n\u001B[1;32m    503\u001B[0m \u001B[38;5;28;01melse\u001B[39;00m:\n",
      "File \u001B[0;32m~/PycharmProjects/KaspiBot/venv/lib/python3.9/site-packages/urllib3/connectionpool.py:787\u001B[0m, in \u001B[0;36mHTTPConnectionPool.urlopen\u001B[0;34m(self, method, url, body, headers, retries, redirect, assert_same_host, timeout, pool_timeout, release_conn, chunked, body_pos, **response_kw)\u001B[0m\n\u001B[1;32m    785\u001B[0m     e \u001B[38;5;241m=\u001B[39m ProtocolError(\u001B[38;5;124m\"\u001B[39m\u001B[38;5;124mConnection aborted.\u001B[39m\u001B[38;5;124m\"\u001B[39m, e)\n\u001B[0;32m--> 787\u001B[0m retries \u001B[38;5;241m=\u001B[39m \u001B[43mretries\u001B[49m\u001B[38;5;241;43m.\u001B[39;49m\u001B[43mincrement\u001B[49m\u001B[43m(\u001B[49m\n\u001B[1;32m    788\u001B[0m \u001B[43m    \u001B[49m\u001B[43mmethod\u001B[49m\u001B[43m,\u001B[49m\u001B[43m \u001B[49m\u001B[43murl\u001B[49m\u001B[43m,\u001B[49m\u001B[43m \u001B[49m\u001B[43merror\u001B[49m\u001B[38;5;241;43m=\u001B[39;49m\u001B[43me\u001B[49m\u001B[43m,\u001B[49m\u001B[43m \u001B[49m\u001B[43m_pool\u001B[49m\u001B[38;5;241;43m=\u001B[39;49m\u001B[38;5;28;43mself\u001B[39;49m\u001B[43m,\u001B[49m\u001B[43m \u001B[49m\u001B[43m_stacktrace\u001B[49m\u001B[38;5;241;43m=\u001B[39;49m\u001B[43msys\u001B[49m\u001B[38;5;241;43m.\u001B[39;49m\u001B[43mexc_info\u001B[49m\u001B[43m(\u001B[49m\u001B[43m)\u001B[49m\u001B[43m[\u001B[49m\u001B[38;5;241;43m2\u001B[39;49m\u001B[43m]\u001B[49m\n\u001B[1;32m    789\u001B[0m \u001B[43m\u001B[49m\u001B[43m)\u001B[49m\n\u001B[1;32m    790\u001B[0m retries\u001B[38;5;241m.\u001B[39msleep()\n",
      "File \u001B[0;32m~/PycharmProjects/KaspiBot/venv/lib/python3.9/site-packages/urllib3/util/retry.py:550\u001B[0m, in \u001B[0;36mRetry.increment\u001B[0;34m(self, method, url, response, error, _pool, _stacktrace)\u001B[0m\n\u001B[1;32m    549\u001B[0m \u001B[38;5;28;01mif\u001B[39;00m read \u001B[38;5;129;01mis\u001B[39;00m \u001B[38;5;28;01mFalse\u001B[39;00m \u001B[38;5;129;01mor\u001B[39;00m \u001B[38;5;129;01mnot\u001B[39;00m \u001B[38;5;28mself\u001B[39m\u001B[38;5;241m.\u001B[39m_is_method_retryable(method):\n\u001B[0;32m--> 550\u001B[0m     \u001B[38;5;28;01mraise\u001B[39;00m \u001B[43msix\u001B[49m\u001B[38;5;241;43m.\u001B[39;49m\u001B[43mreraise\u001B[49m\u001B[43m(\u001B[49m\u001B[38;5;28;43mtype\u001B[39;49m\u001B[43m(\u001B[49m\u001B[43merror\u001B[49m\u001B[43m)\u001B[49m\u001B[43m,\u001B[49m\u001B[43m \u001B[49m\u001B[43merror\u001B[49m\u001B[43m,\u001B[49m\u001B[43m \u001B[49m\u001B[43m_stacktrace\u001B[49m\u001B[43m)\u001B[49m\n\u001B[1;32m    551\u001B[0m \u001B[38;5;28;01melif\u001B[39;00m read \u001B[38;5;129;01mis\u001B[39;00m \u001B[38;5;129;01mnot\u001B[39;00m \u001B[38;5;28;01mNone\u001B[39;00m:\n",
      "File \u001B[0;32m~/PycharmProjects/KaspiBot/venv/lib/python3.9/site-packages/urllib3/packages/six.py:770\u001B[0m, in \u001B[0;36mreraise\u001B[0;34m(tp, value, tb)\u001B[0m\n\u001B[1;32m    769\u001B[0m         \u001B[38;5;28;01mraise\u001B[39;00m value\u001B[38;5;241m.\u001B[39mwith_traceback(tb)\n\u001B[0;32m--> 770\u001B[0m     \u001B[38;5;28;01mraise\u001B[39;00m value\n\u001B[1;32m    771\u001B[0m \u001B[38;5;28;01mfinally\u001B[39;00m:\n",
      "File \u001B[0;32m~/PycharmProjects/KaspiBot/venv/lib/python3.9/site-packages/urllib3/connectionpool.py:703\u001B[0m, in \u001B[0;36mHTTPConnectionPool.urlopen\u001B[0;34m(self, method, url, body, headers, retries, redirect, assert_same_host, timeout, pool_timeout, release_conn, chunked, body_pos, **response_kw)\u001B[0m\n\u001B[1;32m    702\u001B[0m \u001B[38;5;66;03m# Make the request on the httplib connection object.\u001B[39;00m\n\u001B[0;32m--> 703\u001B[0m httplib_response \u001B[38;5;241m=\u001B[39m \u001B[38;5;28;43mself\u001B[39;49m\u001B[38;5;241;43m.\u001B[39;49m\u001B[43m_make_request\u001B[49m\u001B[43m(\u001B[49m\n\u001B[1;32m    704\u001B[0m \u001B[43m    \u001B[49m\u001B[43mconn\u001B[49m\u001B[43m,\u001B[49m\n\u001B[1;32m    705\u001B[0m \u001B[43m    \u001B[49m\u001B[43mmethod\u001B[49m\u001B[43m,\u001B[49m\n\u001B[1;32m    706\u001B[0m \u001B[43m    \u001B[49m\u001B[43murl\u001B[49m\u001B[43m,\u001B[49m\n\u001B[1;32m    707\u001B[0m \u001B[43m    \u001B[49m\u001B[43mtimeout\u001B[49m\u001B[38;5;241;43m=\u001B[39;49m\u001B[43mtimeout_obj\u001B[49m\u001B[43m,\u001B[49m\n\u001B[1;32m    708\u001B[0m \u001B[43m    \u001B[49m\u001B[43mbody\u001B[49m\u001B[38;5;241;43m=\u001B[39;49m\u001B[43mbody\u001B[49m\u001B[43m,\u001B[49m\n\u001B[1;32m    709\u001B[0m \u001B[43m    \u001B[49m\u001B[43mheaders\u001B[49m\u001B[38;5;241;43m=\u001B[39;49m\u001B[43mheaders\u001B[49m\u001B[43m,\u001B[49m\n\u001B[1;32m    710\u001B[0m \u001B[43m    \u001B[49m\u001B[43mchunked\u001B[49m\u001B[38;5;241;43m=\u001B[39;49m\u001B[43mchunked\u001B[49m\u001B[43m,\u001B[49m\n\u001B[1;32m    711\u001B[0m \u001B[43m\u001B[49m\u001B[43m)\u001B[49m\n\u001B[1;32m    713\u001B[0m \u001B[38;5;66;03m# If we're going to release the connection in ``finally:``, then\u001B[39;00m\n\u001B[1;32m    714\u001B[0m \u001B[38;5;66;03m# the response doesn't need to know about the connection. Otherwise\u001B[39;00m\n\u001B[1;32m    715\u001B[0m \u001B[38;5;66;03m# it will also try to release it and we'll have a double-release\u001B[39;00m\n\u001B[1;32m    716\u001B[0m \u001B[38;5;66;03m# mess.\u001B[39;00m\n",
      "File \u001B[0;32m~/PycharmProjects/KaspiBot/venv/lib/python3.9/site-packages/urllib3/connectionpool.py:451\u001B[0m, in \u001B[0;36mHTTPConnectionPool._make_request\u001B[0;34m(self, conn, method, url, timeout, chunked, **httplib_request_kw)\u001B[0m\n\u001B[1;32m    450\u001B[0m \u001B[38;5;28;01mexcept\u001B[39;00m (SocketTimeout, BaseSSLError, SocketError) \u001B[38;5;28;01mas\u001B[39;00m e:\n\u001B[0;32m--> 451\u001B[0m     \u001B[38;5;28;43mself\u001B[39;49m\u001B[38;5;241;43m.\u001B[39;49m\u001B[43m_raise_timeout\u001B[49m\u001B[43m(\u001B[49m\u001B[43merr\u001B[49m\u001B[38;5;241;43m=\u001B[39;49m\u001B[43me\u001B[49m\u001B[43m,\u001B[49m\u001B[43m \u001B[49m\u001B[43murl\u001B[49m\u001B[38;5;241;43m=\u001B[39;49m\u001B[43murl\u001B[49m\u001B[43m,\u001B[49m\u001B[43m \u001B[49m\u001B[43mtimeout_value\u001B[49m\u001B[38;5;241;43m=\u001B[39;49m\u001B[43mread_timeout\u001B[49m\u001B[43m)\u001B[49m\n\u001B[1;32m    452\u001B[0m     \u001B[38;5;28;01mraise\u001B[39;00m\n",
      "File \u001B[0;32m~/PycharmProjects/KaspiBot/venv/lib/python3.9/site-packages/urllib3/connectionpool.py:357\u001B[0m, in \u001B[0;36mHTTPConnectionPool._raise_timeout\u001B[0;34m(self, err, url, timeout_value)\u001B[0m\n\u001B[1;32m    354\u001B[0m \u001B[38;5;28;01mif\u001B[39;00m \u001B[38;5;124m\"\u001B[39m\u001B[38;5;124mtimed out\u001B[39m\u001B[38;5;124m\"\u001B[39m \u001B[38;5;129;01min\u001B[39;00m \u001B[38;5;28mstr\u001B[39m(err) \u001B[38;5;129;01mor\u001B[39;00m \u001B[38;5;124m\"\u001B[39m\u001B[38;5;124mdid not complete (read)\u001B[39m\u001B[38;5;124m\"\u001B[39m \u001B[38;5;129;01min\u001B[39;00m \u001B[38;5;28mstr\u001B[39m(\n\u001B[1;32m    355\u001B[0m     err\n\u001B[1;32m    356\u001B[0m ):  \u001B[38;5;66;03m# Python < 2.7.4\u001B[39;00m\n\u001B[0;32m--> 357\u001B[0m     \u001B[38;5;28;01mraise\u001B[39;00m ReadTimeoutError(\n\u001B[1;32m    358\u001B[0m         \u001B[38;5;28mself\u001B[39m, url, \u001B[38;5;124m\"\u001B[39m\u001B[38;5;124mRead timed out. (read timeout=\u001B[39m\u001B[38;5;132;01m%s\u001B[39;00m\u001B[38;5;124m)\u001B[39m\u001B[38;5;124m\"\u001B[39m \u001B[38;5;241m%\u001B[39m timeout_value\n\u001B[1;32m    359\u001B[0m     )\n",
      "\u001B[0;31mReadTimeoutError\u001B[0m: HTTPSConnectionPool(host='krisha.kz', port=443): Read timed out. (read timeout=None)",
      "\nDuring handling of the above exception, another exception occurred:\n",
      "\u001B[0;31mReadTimeout\u001B[0m                               Traceback (most recent call last)",
      "Cell \u001B[0;32mIn [13], line 70\u001B[0m\n\u001B[1;32m     65\u001B[0m         \u001B[38;5;28;01mfor\u001B[39;00m flat \u001B[38;5;129;01min\u001B[39;00m flats:\n\u001B[1;32m     66\u001B[0m             a_pen\u001B[38;5;241m.\u001B[39mwriterow((flat[\u001B[38;5;124m'\u001B[39m\u001B[38;5;124mtitle\u001B[39m\u001B[38;5;124m'\u001B[39m], flat[\u001B[38;5;124m'\u001B[39m\u001B[38;5;124mprice\u001B[39m\u001B[38;5;124m'\u001B[39m], flat[\u001B[38;5;124m'\u001B[39m\u001B[38;5;124mhref\u001B[39m\u001B[38;5;124m'\u001B[39m], flat[\u001B[38;5;124m'\u001B[39m\u001B[38;5;124maddress\u001B[39m\u001B[38;5;124m'\u001B[39m], flat[\u001B[38;5;124m'\u001B[39m\u001B[38;5;124mcontent\u001B[39m\u001B[38;5;124m'\u001B[39m], flat[\u001B[38;5;124m'\u001B[39m\u001B[38;5;124mowner\u001B[39m\u001B[38;5;124m'\u001B[39m],\n\u001B[1;32m     67\u001B[0m                             flat[\u001B[38;5;124m'\u001B[39m\u001B[38;5;124mspecialist\u001B[39m\u001B[38;5;124m'\u001B[39m]))\n\u001B[0;32m---> 70\u001B[0m flats \u001B[38;5;241m=\u001B[39m \u001B[43mkrisha_parse\u001B[49m\u001B[43m(\u001B[49m\u001B[43mbase_url\u001B[49m\u001B[43m,\u001B[49m\u001B[43m \u001B[49m\u001B[43mheaders\u001B[49m\u001B[43m)\u001B[49m\n\u001B[1;32m     71\u001B[0m files_writer(flats)\n",
      "Cell \u001B[0;32mIn [13], line 29\u001B[0m, in \u001B[0;36mkrisha_parse\u001B[0;34m(base_url, headers)\u001B[0m\n\u001B[1;32m     27\u001B[0m time\u001B[38;5;241m.\u001B[39msleep(\u001B[38;5;241m0.2\u001B[39m)\n\u001B[1;32m     28\u001B[0m \u001B[38;5;28mprint\u001B[39m(\u001B[38;5;124m\"\u001B[39m\u001B[38;5;124mparsing: \u001B[39m\u001B[38;5;124m\"\u001B[39m \u001B[38;5;241m+\u001B[39m url)\n\u001B[0;32m---> 29\u001B[0m request \u001B[38;5;241m=\u001B[39m \u001B[43msession\u001B[49m\u001B[38;5;241;43m.\u001B[39;49m\u001B[43mget\u001B[49m\u001B[43m(\u001B[49m\u001B[43murl\u001B[49m\u001B[43m,\u001B[49m\u001B[43m \u001B[49m\u001B[43mheaders\u001B[49m\u001B[38;5;241;43m=\u001B[39;49m\u001B[43mheaders\u001B[49m\u001B[43m)\u001B[49m\n\u001B[1;32m     30\u001B[0m soup \u001B[38;5;241m=\u001B[39m bs(request\u001B[38;5;241m.\u001B[39mcontent, \u001B[38;5;124m'\u001B[39m\u001B[38;5;124mlxml\u001B[39m\u001B[38;5;124m'\u001B[39m)\n\u001B[1;32m     31\u001B[0m divs \u001B[38;5;241m=\u001B[39m soup\u001B[38;5;241m.\u001B[39mfind_all(\u001B[38;5;124m'\u001B[39m\u001B[38;5;124mdiv\u001B[39m\u001B[38;5;124m'\u001B[39m, attrs\u001B[38;5;241m=\u001B[39m{\u001B[38;5;124m'\u001B[39m\u001B[38;5;124mclass\u001B[39m\u001B[38;5;124m'\u001B[39m: \u001B[38;5;124m'\u001B[39m\u001B[38;5;124ma-card a-storage-live ddl_product ddl_product_link not-colored is-visible\u001B[39m\u001B[38;5;124m'\u001B[39m})\n",
      "File \u001B[0;32m~/PycharmProjects/KaspiBot/venv/lib/python3.9/site-packages/requests/sessions.py:600\u001B[0m, in \u001B[0;36mSession.get\u001B[0;34m(self, url, **kwargs)\u001B[0m\n\u001B[1;32m    592\u001B[0m \u001B[38;5;124mr\u001B[39m\u001B[38;5;124;03m\"\"\"Sends a GET request. Returns :class:`Response` object.\u001B[39;00m\n\u001B[1;32m    593\u001B[0m \n\u001B[1;32m    594\u001B[0m \u001B[38;5;124;03m:param url: URL for the new :class:`Request` object.\u001B[39;00m\n\u001B[1;32m    595\u001B[0m \u001B[38;5;124;03m:param \\*\\*kwargs: Optional arguments that ``request`` takes.\u001B[39;00m\n\u001B[1;32m    596\u001B[0m \u001B[38;5;124;03m:rtype: requests.Response\u001B[39;00m\n\u001B[1;32m    597\u001B[0m \u001B[38;5;124;03m\"\"\"\u001B[39;00m\n\u001B[1;32m    599\u001B[0m kwargs\u001B[38;5;241m.\u001B[39msetdefault(\u001B[38;5;124m\"\u001B[39m\u001B[38;5;124mallow_redirects\u001B[39m\u001B[38;5;124m\"\u001B[39m, \u001B[38;5;28;01mTrue\u001B[39;00m)\n\u001B[0;32m--> 600\u001B[0m \u001B[38;5;28;01mreturn\u001B[39;00m \u001B[38;5;28;43mself\u001B[39;49m\u001B[38;5;241;43m.\u001B[39;49m\u001B[43mrequest\u001B[49m\u001B[43m(\u001B[49m\u001B[38;5;124;43m\"\u001B[39;49m\u001B[38;5;124;43mGET\u001B[39;49m\u001B[38;5;124;43m\"\u001B[39;49m\u001B[43m,\u001B[49m\u001B[43m \u001B[49m\u001B[43murl\u001B[49m\u001B[43m,\u001B[49m\u001B[43m \u001B[49m\u001B[38;5;241;43m*\u001B[39;49m\u001B[38;5;241;43m*\u001B[39;49m\u001B[43mkwargs\u001B[49m\u001B[43m)\u001B[49m\n",
      "File \u001B[0;32m~/PycharmProjects/KaspiBot/venv/lib/python3.9/site-packages/requests/sessions.py:587\u001B[0m, in \u001B[0;36mSession.request\u001B[0;34m(self, method, url, params, data, headers, cookies, files, auth, timeout, allow_redirects, proxies, hooks, stream, verify, cert, json)\u001B[0m\n\u001B[1;32m    582\u001B[0m send_kwargs \u001B[38;5;241m=\u001B[39m {\n\u001B[1;32m    583\u001B[0m     \u001B[38;5;124m\"\u001B[39m\u001B[38;5;124mtimeout\u001B[39m\u001B[38;5;124m\"\u001B[39m: timeout,\n\u001B[1;32m    584\u001B[0m     \u001B[38;5;124m\"\u001B[39m\u001B[38;5;124mallow_redirects\u001B[39m\u001B[38;5;124m\"\u001B[39m: allow_redirects,\n\u001B[1;32m    585\u001B[0m }\n\u001B[1;32m    586\u001B[0m send_kwargs\u001B[38;5;241m.\u001B[39mupdate(settings)\n\u001B[0;32m--> 587\u001B[0m resp \u001B[38;5;241m=\u001B[39m \u001B[38;5;28;43mself\u001B[39;49m\u001B[38;5;241;43m.\u001B[39;49m\u001B[43msend\u001B[49m\u001B[43m(\u001B[49m\u001B[43mprep\u001B[49m\u001B[43m,\u001B[49m\u001B[43m \u001B[49m\u001B[38;5;241;43m*\u001B[39;49m\u001B[38;5;241;43m*\u001B[39;49m\u001B[43msend_kwargs\u001B[49m\u001B[43m)\u001B[49m\n\u001B[1;32m    589\u001B[0m \u001B[38;5;28;01mreturn\u001B[39;00m resp\n",
      "File \u001B[0;32m~/PycharmProjects/KaspiBot/venv/lib/python3.9/site-packages/requests/sessions.py:701\u001B[0m, in \u001B[0;36mSession.send\u001B[0;34m(self, request, **kwargs)\u001B[0m\n\u001B[1;32m    698\u001B[0m start \u001B[38;5;241m=\u001B[39m preferred_clock()\n\u001B[1;32m    700\u001B[0m \u001B[38;5;66;03m# Send the request\u001B[39;00m\n\u001B[0;32m--> 701\u001B[0m r \u001B[38;5;241m=\u001B[39m \u001B[43madapter\u001B[49m\u001B[38;5;241;43m.\u001B[39;49m\u001B[43msend\u001B[49m\u001B[43m(\u001B[49m\u001B[43mrequest\u001B[49m\u001B[43m,\u001B[49m\u001B[43m \u001B[49m\u001B[38;5;241;43m*\u001B[39;49m\u001B[38;5;241;43m*\u001B[39;49m\u001B[43mkwargs\u001B[49m\u001B[43m)\u001B[49m\n\u001B[1;32m    703\u001B[0m \u001B[38;5;66;03m# Total elapsed time of the request (approximately)\u001B[39;00m\n\u001B[1;32m    704\u001B[0m elapsed \u001B[38;5;241m=\u001B[39m preferred_clock() \u001B[38;5;241m-\u001B[39m start\n",
      "File \u001B[0;32m~/PycharmProjects/KaspiBot/venv/lib/python3.9/site-packages/requests/adapters.py:578\u001B[0m, in \u001B[0;36mHTTPAdapter.send\u001B[0;34m(self, request, stream, timeout, verify, cert, proxies)\u001B[0m\n\u001B[1;32m    576\u001B[0m     \u001B[38;5;28;01mraise\u001B[39;00m SSLError(e, request\u001B[38;5;241m=\u001B[39mrequest)\n\u001B[1;32m    577\u001B[0m \u001B[38;5;28;01melif\u001B[39;00m \u001B[38;5;28misinstance\u001B[39m(e, ReadTimeoutError):\n\u001B[0;32m--> 578\u001B[0m     \u001B[38;5;28;01mraise\u001B[39;00m ReadTimeout(e, request\u001B[38;5;241m=\u001B[39mrequest)\n\u001B[1;32m    579\u001B[0m \u001B[38;5;28;01melif\u001B[39;00m \u001B[38;5;28misinstance\u001B[39m(e, _InvalidHeader):\n\u001B[1;32m    580\u001B[0m     \u001B[38;5;28;01mraise\u001B[39;00m InvalidHeader(e, request\u001B[38;5;241m=\u001B[39mrequest)\n",
      "\u001B[0;31mReadTimeout\u001B[0m: HTTPSConnectionPool(host='krisha.kz', port=443): Read timed out. (read timeout=None)"
     ]
    }
   ],
   "source": [
    "headers = {\n",
    "    'accept': '*/*',\n",
    "    'User-Agent': 'Mozilla/5.0 (Macintosh; Intel Mac OS X 10_15_7) AppleWebKit/537.36 (KHTML, like Gecko) Chrome/106.0.0.0 Safari/537.36'\n",
    "}\n",
    "\n",
    "base_url = 'https://krisha.kz/arenda/kvartiry/almaty/?das[rent.period]=2'\n",
    "\n",
    "def krisha_parse(base_url, headers):\n",
    "    flats = []\n",
    "    urls = []\n",
    "    urls.append(base_url)\n",
    "    session = requests.Session()\n",
    "    request = session.get(base_url, headers=headers)\n",
    "    if request.status_code == 200:\n",
    "        soup = bs(request.content, 'lxml')\n",
    "        try:\n",
    "            pagination = soup.find_all('a', attrs={'class': 'paginator__btn'})\n",
    "            count = int(pagination[-2].text)\n",
    "            for i in range(2, count - 1):\n",
    "                url = 'https://krisha.kz/arenda/kvartiry/almaty/?das[rent.period]=2&page={i}'.format(i=i)\n",
    "                if url not in urls:\n",
    "                    urls.append(url)\n",
    "        except:\n",
    "            pass\n",
    "\n",
    "        for url in urls:\n",
    "            time.sleep(0.2)\n",
    "            print(\"parsing: \" + url)\n",
    "            request = session.get(url, headers=headers)\n",
    "            soup = bs(request.content, 'lxml')\n",
    "            divs = soup.find_all('div', attrs={'class': 'a-card a-storage-live ddl_product ddl_product_link not-colored is-visible'})\n",
    "            for div in divs:\n",
    "                title = div.find('a', attrs={'class': 'a-card__title'}).string\n",
    "                price = div.find('div', attrs={'class': 'a-card__price'}).text\n",
    "                href = div.find('a', attrs={'class': 'a-card__title'})['href']\n",
    "                address = div.find('div', attrs={'class': 'a-card__subtitle'}).text\n",
    "                content = div.find('div', attrs={'class': 'a-card__text-preview'}).text\n",
    "                owner = div.find('div', attrs={'class': 'a-card__owner user-title-not-pro'})\n",
    "                if owner is None:\n",
    "                    specialist = 1\n",
    "                    owner = 0\n",
    "                else:\n",
    "                    specialist = 0\n",
    "                    owner = 1\n",
    "                flats.append({\n",
    "                    'title': title,\n",
    "                    'price': price,\n",
    "                    'href': href,\n",
    "                    'address': address,\n",
    "                    'content': content,\n",
    "                    'specialist': specialist,\n",
    "                    'owner': owner\n",
    "                })\n",
    "        print(len(flats))\n",
    "    else:\n",
    "        print('ERROR')\n",
    "    return flats\n",
    "\n",
    "\n",
    "def files_writer(flats):\n",
    "    # with open('HeadHunter.csv', 'a', encoding='utf-8') as file:\n",
    "    with open(r\"Krisha.csv\", \"w\", encoding='utf-8') as file:\n",
    "        a_pen = csv.writer(file)\n",
    "        a_pen.writerow(('title', 'price', 'href', 'address', 'content', 'owner', 'specialist'))\n",
    "        for flat in flats:\n",
    "            a_pen.writerow((flat['title'], flat['price'], flat['href'], flat['address'], flat['content'], flat['owner'],\n",
    "                            flat['specialist']))\n",
    "\n",
    "\n",
    "flats = krisha_parse(base_url, headers)\n",
    "files_writer(flats)"
   ],
   "metadata": {
    "collapsed": false
   }
  },
  {
   "cell_type": "code",
   "execution_count": null,
   "metadata": {},
   "outputs": [],
   "source": [
    "df = pd.read_csv('Krisha.csv')"
   ]
  },
  {
   "cell_type": "code",
   "execution_count": null,
   "metadata": {},
   "outputs": [],
   "source": [
    "df.head()"
   ]
  },
  {
   "cell_type": "code",
   "execution_count": null,
   "metadata": {},
   "outputs": [],
   "source": [
    "df.shape"
   ]
  },
  {
   "cell_type": "code",
   "execution_count": null,
   "metadata": {},
   "outputs": [],
   "source": [
    "new = df[\"title\"].str.split(\",\", expand = True)\n",
    "df[\"rooms\"]= new[0]\n",
    "df[\"square\"]= new[1] \n",
    "#df[\"floor\"]=new[2]\n",
    "df.drop(columns =[\"title\"], inplace = True)\n",
    "\n",
    "new = df[\"address\"].str.split(\",\", expand = True)\n",
    "df[\"district\"]= new[0]\n",
    "df[\"street\"]= new[1]\n",
    "df.drop(columns =[\"address\"], inplace = True)\n",
    "\n",
    "new = df[\"district\"].str.split(expand = True)\n",
    "df[\"district\"] = new[0]\n",
    "\n",
    "new = df[\"square\"].str.split(expand = True)\n",
    "df[\"square\"] = new[0]\n",
    "df['square']=pd.to_numeric(df['square'])\n",
    "\n",
    "df.drop(columns =[\"href\"], inplace = True)\n",
    "\n",
    "new = df[\"price\"].str.split(expand = True)\n",
    "new = new[0]+new[1]\n",
    "df[\"price\"] = new\n",
    "df['price']=pd.to_numeric(df['price'])\n",
    "df.loc[df.price <= 10000,'price'] = df.price * 1000\n",
    "\n",
    "new = df['rooms'].str.split('-', expand = True)\n",
    "df['rooms'] = new[0]\n",
    "\n",
    "df.drop(columns =[\"street\"], inplace = True)\n",
    "\n",
    "#new = df['floor'].str.split('/', expand = True)\n",
    "#df['floor'] = new[0]\n",
    "#new = new.dropna()\n",
    "#new = new[1].str.split(' ',expand = True)\n",
    "#df['total floors'] = new[0]\n",
    "\n",
    "df = df.dropna()\n",
    "\n",
    "districts = ['Алмалинский','Бостандыкский','Ауэзовский','Медеуский','Жетысуский','Наурызбайский','Алатауский','Турксибский']\n",
    "df = df[df['district'].isin(districts)]\n",
    "\n",
    "year = list(df['content'])\n",
    "yeardf=[]\n",
    "for years in year:\n",
    "    years = years[years.find(\"г.п.\")-5:years.find(\"г.п.\")-1]\n",
    "    yeardf.append(years)\n",
    "df['year'] = yeardf\n",
    "\n",
    "df.drop(columns = [\"content\"], inplace = True)\n",
    "\n",
    "df['yearisnull'] = df['year'].str.find('    ')\n",
    "df = df.loc[df.yearisnull != 0]\n",
    "\n",
    "df.drop(columns =[\"yearisnull\"], inplace = True)\n",
    "\n",
    "df['rooms']=pd.to_numeric(df['rooms'])\n",
    "#df = df.loc[df.rooms!=11]"
   ]
  },
  {
   "cell_type": "code",
   "execution_count": null,
   "metadata": {},
   "outputs": [],
   "source": [
    "df.head()"
   ]
  },
  {
   "cell_type": "code",
   "execution_count": null,
   "metadata": {},
   "outputs": [],
   "source": [
    "df.shape"
   ]
  },
  {
   "cell_type": "code",
   "execution_count": null,
   "metadata": {},
   "outputs": [],
   "source": [
    "import matplotlib as mpl\n",
    "import matplotlib.pyplot as plt"
   ]
  },
  {
   "cell_type": "code",
   "execution_count": null,
   "metadata": {},
   "outputs": [],
   "source": [
    "df1 = df.groupby(['district']).size().reset_index(name='count')\n",
    "df1.sort_values(by=['count'], inplace=True)\n",
    "df1"
   ]
  },
  {
   "cell_type": "code",
   "execution_count": null,
   "metadata": {},
   "outputs": [],
   "source": [
    "df1.set_index('district', inplace=True)"
   ]
  },
  {
   "cell_type": "code",
   "execution_count": null,
   "metadata": {},
   "outputs": [],
   "source": [
    "df1.plot(kind='barh', \n",
    "             stacked=False,\n",
    "             figsize=(20, 10),\n",
    "             color='g',\n",
    "             label=df1['count']\n",
    "             )\n",
    "\n",
    "plt.title('Распределение арендного жилья в городе Алматы')\n",
    "plt.xlabel('Количество квартир')\n",
    "plt.ylabel('Районы')\n",
    "plt.show()"
   ]
  },
  {
   "cell_type": "code",
   "execution_count": null,
   "metadata": {},
   "outputs": [],
   "source": [
    "df.plot(kind='scatter', x='price', y='square', figsize=(12, 9), color='darkblue')\n",
    "\n",
    "plt.title('Зависимость стоимости аренды от площади квартиры')\n",
    "plt.xlabel('Стоимость аренды')\n",
    "plt.ylabel('Площадь')\n",
    "\n",
    "x = df['price']\n",
    "y = df['square']\n",
    "fit = np.polyfit(x, y, deg=1)\n",
    "plt.plot(x, fit[0] * x + fit[1], color='red')\n",
    "\n",
    "plt.show()"
   ]
  },
  {
   "cell_type": "code",
   "execution_count": null,
   "metadata": {},
   "outputs": [],
   "source": [
    "df2 = df.loc[df.price <= 200000]"
   ]
  },
  {
   "cell_type": "code",
   "execution_count": null,
   "metadata": {},
   "outputs": [],
   "source": [
    "df2.head()"
   ]
  },
  {
   "cell_type": "code",
   "execution_count": null,
   "metadata": {},
   "outputs": [],
   "source": [
    "df2.shape"
   ]
  },
  {
   "cell_type": "code",
   "execution_count": null,
   "metadata": {},
   "outputs": [],
   "source": [
    "df2.plot(kind='scatter', x='price', y='square', figsize=(12, 9), color='darkblue')\n",
    "\n",
    "plt.title('Зависимость стоимости аренды от площади квартиры')\n",
    "plt.xlabel('Стоимость аренды')\n",
    "plt.ylabel('Площадь')\n",
    "\n",
    "x = df2['price']\n",
    "y = df2['square']\n",
    "fit = np.polyfit(x, y, deg=1)\n",
    "plt.plot(x, fit[0] * x + fit[1], color='red')\n",
    "\n",
    "plt.show()"
   ]
  },
  {
   "cell_type": "code",
   "execution_count": null,
   "metadata": {},
   "outputs": [],
   "source": [
    "df4 = df.groupby(['district']).sum()\n",
    "#df4.sort_values(by=['count'], inplace=True)\n",
    "df4"
   ]
  },
  {
   "cell_type": "code",
   "execution_count": null,
   "metadata": {},
   "outputs": [],
   "source": [
    "n_groups = 8\n",
    "\n",
    "# create plot\n",
    "fig, ax = plt.subplots()\n",
    "index = np.arange(n_groups)\n",
    "bar_width = 0.35\n",
    "\n",
    "rects1 = plt.barh(index + bar_width, df4['owner'], bar_width,\n",
    "color='b',\n",
    "label='Хозяин')\n",
    "\n",
    "rects2 = plt.barh(index, df4['specialist'], bar_width,\n",
    "color='g',\n",
    "label='Риэлтор')\n",
    "\n",
    "plt.ylabel('Районы')\n",
    "plt.xlabel('Количество квартир')\n",
    "plt.title('Распределение арендного жилья в городе Алматы')\n",
    "plt.yticks(index + bar_width/2, df4.index)\n",
    "plt.legend()"
   ]
  },
  {
   "cell_type": "code",
   "execution_count": null,
   "metadata": {},
   "outputs": [],
   "source": [
    "df.head()"
   ]
  },
  {
   "cell_type": "code",
   "execution_count": null,
   "metadata": {},
   "outputs": [],
   "source": [
    "df5 = df.groupby(['rooms']).size().reset_index(name='count')\n",
    "df5.sort_values(by=['count'], inplace=True)\n",
    "df5.set_index('rooms', inplace=True)\n",
    "df5"
   ]
  },
  {
   "cell_type": "code",
   "execution_count": null,
   "metadata": {},
   "outputs": [],
   "source": [
    "df5.plot(kind='barh', \n",
    "             stacked=False,\n",
    "             figsize=(20, 10),\n",
    "             color='g',\n",
    "             label=df5['count']\n",
    "             )\n",
    "\n",
    "plt.title('Распределение арендного жилья в городе Алматы')\n",
    "plt.xlabel('Количество квартир')\n",
    "plt.ylabel('Районы')\n",
    "plt.show()"
   ]
  },
  {
   "cell_type": "code",
   "execution_count": null,
   "metadata": {},
   "outputs": [],
   "source": [
    "df6 = df.groupby(['district','price']).size().reset_index(name='count')\n",
    "df6.sort_values(by=['count'], inplace=True)\n",
    "df6 = df6.pivot(index='price',columns='district',values='count')"
   ]
  },
  {
   "cell_type": "code",
   "execution_count": null,
   "metadata": {},
   "outputs": [],
   "source": [
    "df6"
   ]
  },
  {
   "cell_type": "code",
   "execution_count": null,
   "metadata": {},
   "outputs": [],
   "source": []
  }
 ],
 "metadata": {
  "kernelspec": {
   "display_name": "Python 3 (ipykernel)",
   "language": "python",
   "name": "python3"
  },
  "language_info": {
   "codemirror_mode": {
    "name": "ipython",
    "version": 3
   },
   "file_extension": ".py",
   "mimetype": "text/x-python",
   "name": "python",
   "nbconvert_exporter": "python",
   "pygments_lexer": "ipython3",
   "version": "3.10.6"
  }
 },
 "nbformat": 4,
 "nbformat_minor": 2
}
