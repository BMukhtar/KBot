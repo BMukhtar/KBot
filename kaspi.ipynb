{
 "cells": [
  {
   "cell_type": "code",
   "execution_count": 1,
   "metadata": {},
   "outputs": [
    {
     "data": {
      "text/plain": "'\\nInitial setup:\\n1) create virtualenv project using pycharm\\n\\n2) install the following libraries to virtualenv:\\npip install numpy\\npip install pandas\\npip install requests\\npip install beautifulsoup4\\npip install lxml\\n'"
     },
     "execution_count": 1,
     "metadata": {},
     "output_type": "execute_result"
    }
   ],
   "source": [
    "\"\"\"\n",
    "Initial setup:\n",
    "1) create virtualenv project using pycharm\n",
    "\n",
    "2) install the following libraries to virtualenv:\n",
    "pip install numpy\n",
    "pip install pandas\n",
    "pip install requests\n",
    "pip install beautifulsoup4\n",
    "pip install lxml\n",
    "\"\"\""
   ]
  },
  {
   "cell_type": "code",
   "execution_count": 3,
   "outputs": [],
   "source": [
    "import requests  # library to send requests to web site(krisha.kz)\n",
    "from bs4 import BeautifulSoup as bs  # library to copy all html-code\n",
    "import csv  # library to write info to csv\n",
    "import pandas as pd  # to convert csv to pandas DataFrame\n",
    "import numpy as np  # to work np. arrays\n",
    "import time\n",
    "import math"
   ],
   "metadata": {
    "collapsed": false
   }
  },
  {
   "cell_type": "code",
   "execution_count": 5,
   "outputs": [
    {
     "ename": "KeyboardInterrupt",
     "evalue": "",
     "output_type": "error",
     "traceback": [
      "\u001B[0;31m---------------------------------------------------------------------------\u001B[0m",
      "\u001B[0;31mKeyboardInterrupt\u001B[0m                         Traceback (most recent call last)",
      "Cell \u001B[0;32mIn [5], line 64\u001B[0m\n\u001B[1;32m     61\u001B[0m             a_pen\u001B[38;5;241m.\u001B[39mwriterow((flat[\u001B[38;5;124m'\u001B[39m\u001B[38;5;124mtitle\u001B[39m\u001B[38;5;124m'\u001B[39m], flat[\u001B[38;5;124m'\u001B[39m\u001B[38;5;124mprice\u001B[39m\u001B[38;5;124m'\u001B[39m], flat[\u001B[38;5;124m'\u001B[39m\u001B[38;5;124mhref\u001B[39m\u001B[38;5;124m'\u001B[39m], flat[\u001B[38;5;124m'\u001B[39m\u001B[38;5;124mrating\u001B[39m\u001B[38;5;124m'\u001B[39m]))\n\u001B[1;32m     63\u001B[0m base_url \u001B[38;5;241m=\u001B[39m \u001B[38;5;124m'\u001B[39m\u001B[38;5;124mhttps://kaspi.kz/shop/c/notebooks/\u001B[39m\u001B[38;5;124m'\u001B[39m\n\u001B[0;32m---> 64\u001B[0m urls \u001B[38;5;241m=\u001B[39m \u001B[43mget_all_pages\u001B[49m\u001B[43m(\u001B[49m\u001B[43mbase_url\u001B[49m\u001B[43m)\u001B[49m\n\u001B[1;32m     65\u001B[0m \u001B[38;5;28mprint\u001B[39m(urls)\n",
      "Cell \u001B[0;32mIn [5], line 18\u001B[0m, in \u001B[0;36mget_all_pages\u001B[0;34m(catalog_page_url)\u001B[0m\n\u001B[1;32m     16\u001B[0m \u001B[38;5;28;01mtry\u001B[39;00m:\n\u001B[1;32m     17\u001B[0m     pagination \u001B[38;5;241m=\u001B[39m soup\u001B[38;5;241m.\u001B[39mfind(\u001B[38;5;124m'\u001B[39m\u001B[38;5;124mli\u001B[39m\u001B[38;5;124m'\u001B[39m, attrs\u001B[38;5;241m=\u001B[39m{\u001B[38;5;124m'\u001B[39m\u001B[38;5;124mclass\u001B[39m\u001B[38;5;124m'\u001B[39m: \u001B[38;5;124m'\u001B[39m\u001B[38;5;124mtree__item _expanded _active\u001B[39m\u001B[38;5;124m'\u001B[39m})\n\u001B[0;32m---> 18\u001B[0m     total_items \u001B[38;5;241m=\u001B[39m \u001B[38;5;28;43mint\u001B[39;49m(pagination\u001B[38;5;241m.\u001B[39mtext\u001B[38;5;241m.\u001B[39mstrip()\u001B[38;5;241m.\u001B[39mstrip(\u001B[38;5;124m'\u001B[39m\u001B[38;5;124m(\u001B[39m\u001B[38;5;124m'\u001B[39m, \u001B[38;5;124m'\u001B[39m\u001B[38;5;124m)\u001B[39m\u001B[38;5;124m'\u001B[39m))\n\u001B[1;32m     19\u001B[0m     pages \u001B[38;5;241m=\u001B[39m math\u001B[38;5;241m.\u001B[39mceil(total_items \u001B[38;5;241m/\u001B[39m items_per_page)\n\u001B[1;32m     20\u001B[0m     \u001B[38;5;28;01mfor\u001B[39;00m i \u001B[38;5;129;01min\u001B[39;00m \u001B[38;5;28mrange\u001B[39m(\u001B[38;5;241m2\u001B[39m, pages):\n",
      "Cell \u001B[0;32mIn [5], line 18\u001B[0m, in \u001B[0;36mget_all_pages\u001B[0;34m(catalog_page_url)\u001B[0m\n\u001B[1;32m     16\u001B[0m \u001B[38;5;28;01mtry\u001B[39;00m:\n\u001B[1;32m     17\u001B[0m     pagination \u001B[38;5;241m=\u001B[39m soup\u001B[38;5;241m.\u001B[39mfind(\u001B[38;5;124m'\u001B[39m\u001B[38;5;124mli\u001B[39m\u001B[38;5;124m'\u001B[39m, attrs\u001B[38;5;241m=\u001B[39m{\u001B[38;5;124m'\u001B[39m\u001B[38;5;124mclass\u001B[39m\u001B[38;5;124m'\u001B[39m: \u001B[38;5;124m'\u001B[39m\u001B[38;5;124mtree__item _expanded _active\u001B[39m\u001B[38;5;124m'\u001B[39m})\n\u001B[0;32m---> 18\u001B[0m     total_items \u001B[38;5;241m=\u001B[39m \u001B[38;5;28;43mint\u001B[39;49m(pagination\u001B[38;5;241m.\u001B[39mtext\u001B[38;5;241m.\u001B[39mstrip()\u001B[38;5;241m.\u001B[39mstrip(\u001B[38;5;124m'\u001B[39m\u001B[38;5;124m(\u001B[39m\u001B[38;5;124m'\u001B[39m, \u001B[38;5;124m'\u001B[39m\u001B[38;5;124m)\u001B[39m\u001B[38;5;124m'\u001B[39m))\n\u001B[1;32m     19\u001B[0m     pages \u001B[38;5;241m=\u001B[39m math\u001B[38;5;241m.\u001B[39mceil(total_items \u001B[38;5;241m/\u001B[39m items_per_page)\n\u001B[1;32m     20\u001B[0m     \u001B[38;5;28;01mfor\u001B[39;00m i \u001B[38;5;129;01min\u001B[39;00m \u001B[38;5;28mrange\u001B[39m(\u001B[38;5;241m2\u001B[39m, pages):\n",
      "File \u001B[0;32m_pydevd_bundle/pydevd_cython_darwin_39_64.pyx:1179\u001B[0m, in \u001B[0;36m_pydevd_bundle.pydevd_cython_darwin_39_64.SafeCallWrapper.__call__\u001B[0;34m()\u001B[0m\n",
      "File \u001B[0;32m_pydevd_bundle/pydevd_cython_darwin_39_64.pyx:620\u001B[0m, in \u001B[0;36m_pydevd_bundle.pydevd_cython_darwin_39_64.PyDBFrame.trace_dispatch\u001B[0;34m()\u001B[0m\n",
      "File \u001B[0;32m_pydevd_bundle/pydevd_cython_darwin_39_64.pyx:929\u001B[0m, in \u001B[0;36m_pydevd_bundle.pydevd_cython_darwin_39_64.PyDBFrame.trace_dispatch\u001B[0;34m()\u001B[0m\n",
      "File \u001B[0;32m_pydevd_bundle/pydevd_cython_darwin_39_64.pyx:920\u001B[0m, in \u001B[0;36m_pydevd_bundle.pydevd_cython_darwin_39_64.PyDBFrame.trace_dispatch\u001B[0;34m()\u001B[0m\n",
      "File \u001B[0;32m_pydevd_bundle/pydevd_cython_darwin_39_64.pyx:317\u001B[0m, in \u001B[0;36m_pydevd_bundle.pydevd_cython_darwin_39_64.PyDBFrame.do_wait_suspend\u001B[0;34m()\u001B[0m\n",
      "File \u001B[0;32m/Applications/PyCharm.app/Contents/plugins/python/helpers/pydev/pydevd.py:1160\u001B[0m, in \u001B[0;36mPyDB.do_wait_suspend\u001B[0;34m(self, thread, frame, event, arg, send_suspend_message, is_unhandled_exception)\u001B[0m\n\u001B[1;32m   1157\u001B[0m         from_this_thread\u001B[38;5;241m.\u001B[39mappend(frame_id)\n\u001B[1;32m   1159\u001B[0m \u001B[38;5;28;01mwith\u001B[39;00m \u001B[38;5;28mself\u001B[39m\u001B[38;5;241m.\u001B[39m_threads_suspended_single_notification\u001B[38;5;241m.\u001B[39mnotify_thread_suspended(thread_id, stop_reason):\n\u001B[0;32m-> 1160\u001B[0m     \u001B[38;5;28;43mself\u001B[39;49m\u001B[38;5;241;43m.\u001B[39;49m\u001B[43m_do_wait_suspend\u001B[49m\u001B[43m(\u001B[49m\u001B[43mthread\u001B[49m\u001B[43m,\u001B[49m\u001B[43m \u001B[49m\u001B[43mframe\u001B[49m\u001B[43m,\u001B[49m\u001B[43m \u001B[49m\u001B[43mevent\u001B[49m\u001B[43m,\u001B[49m\u001B[43m \u001B[49m\u001B[43marg\u001B[49m\u001B[43m,\u001B[49m\u001B[43m \u001B[49m\u001B[43msuspend_type\u001B[49m\u001B[43m,\u001B[49m\u001B[43m \u001B[49m\u001B[43mfrom_this_thread\u001B[49m\u001B[43m)\u001B[49m\n",
      "File \u001B[0;32m/Applications/PyCharm.app/Contents/plugins/python/helpers/pydev/pydevd.py:1175\u001B[0m, in \u001B[0;36mPyDB._do_wait_suspend\u001B[0;34m(self, thread, frame, event, arg, suspend_type, from_this_thread)\u001B[0m\n\u001B[1;32m   1172\u001B[0m             \u001B[38;5;28mself\u001B[39m\u001B[38;5;241m.\u001B[39m_call_mpl_hook()\n\u001B[1;32m   1174\u001B[0m         \u001B[38;5;28mself\u001B[39m\u001B[38;5;241m.\u001B[39mprocess_internal_commands()\n\u001B[0;32m-> 1175\u001B[0m         \u001B[43mtime\u001B[49m\u001B[38;5;241;43m.\u001B[39;49m\u001B[43msleep\u001B[49m\u001B[43m(\u001B[49m\u001B[38;5;241;43m0.01\u001B[39;49m\u001B[43m)\u001B[49m\n\u001B[1;32m   1177\u001B[0m \u001B[38;5;28mself\u001B[39m\u001B[38;5;241m.\u001B[39mcancel_async_evaluation(get_current_thread_id(thread), \u001B[38;5;28mstr\u001B[39m(\u001B[38;5;28mid\u001B[39m(frame)))\n\u001B[1;32m   1179\u001B[0m \u001B[38;5;66;03m# process any stepping instructions\u001B[39;00m\n",
      "\u001B[0;31mKeyboardInterrupt\u001B[0m: "
     ]
    }
   ],
   "source": [
    "headers = {\n",
    "    'accept': '*/*',\n",
    "    'User-Agent': 'Mozilla/5.0 (Macintosh; Intel Mac OS X 10_15_7) AppleWebKit/537.36 (KHTML, like Gecko) Chrome/106.0.0.0 Safari/537.36'\n",
    "}\n",
    "\n",
    "items_per_page = 12\n",
    "\n",
    "def get_all_pages(catalog_page_url):\n",
    "    urls = []\n",
    "    urls.append(catalog_page_url)\n",
    "    session = requests.Session()\n",
    "    request = session.get(catalog_page_url, headers=headers)\n",
    "\n",
    "    if request.status_code == 200:\n",
    "        soup = bs(request.content, 'lxml')\n",
    "        try:\n",
    "            pagination = soup.find('li', attrs={'class': 'tree__item _expanded _active'})\n",
    "            total_items = int(pagination.text.strip().strip('(', ')'))\n",
    "            pages = math.ceil(total_items / items_per_page)\n",
    "            for i in range(2, pages):\n",
    "                url = catalog_page_url + '?page={i}'.format(i=i)\n",
    "                if url not in urls:\n",
    "                    urls.append(url)\n",
    "        except Exception as e:\n",
    "            print(\"exception while getting all page urls: \" + e)\n",
    "            pass\n",
    "    return urls\n",
    "\n",
    "def parse_kaspi_pages(urls):\n",
    "    items = []\n",
    "    session = requests.Session()\n",
    "    for url in urls:\n",
    "        time.sleep(3)\n",
    "        print(\"parsing: \" + url)\n",
    "\n",
    "        request = session.get(url, headers=headers)\n",
    "        soup = bs(request.content, 'lxml')\n",
    "        divs = soup.find_all('div', attrs={'class': 'item-card ddl_product ddl_product_link undefined'})\n",
    "        for div in divs:\n",
    "            title = div.find('a', attrs={'class': 'item-card__name-link'}).string\n",
    "            price = div.find('div', attrs={'class': 'item-card__prices-price'}).text\n",
    "            href = div.find('a', attrs={'class': 'item-card__name-link'})['href']\n",
    "            rating = div.find('div', attrs={'class': 'item-card__rating'})\n",
    "\n",
    "            items.append({\n",
    "                'title': title,\n",
    "                'price': price,\n",
    "                'href': href,\n",
    "                'rating': rating,\n",
    "            })\n",
    "    print(len(items))\n",
    "    return items\n",
    "\n",
    "\n",
    "def files_writer(flats):\n",
    "    # with open('HeadHunter.csv', 'a', encoding='utf-8') as file:\n",
    "    with open(r\"Kaspi.csv\", \"w\", encoding='utf-8') as file:\n",
    "        a_pen = csv.writer(file)\n",
    "        a_pen.writerow(('title', 'price', 'href', 'rating'))\n",
    "        for flat in flats:\n",
    "            a_pen.writerow((flat['title'], flat['price'], flat['href'], flat['rating']))\n",
    "\n",
    "base_url = 'https://kaspi.kz/shop/c/notebooks/'\n",
    "urls = get_all_pages(base_url)\n",
    "print(urls)\n",
    "# flats = parse_kaspi_pages(urls, headers)\n",
    "# files_writer(flats)"
   ],
   "metadata": {
    "collapsed": false
   }
  },
  {
   "cell_type": "code",
   "execution_count": null,
   "metadata": {
    "pycharm": {
     "is_executing": true
    }
   },
   "outputs": [],
   "source": [
    "df = pd.read_csv('Krisha.csv')"
   ]
  },
  {
   "cell_type": "code",
   "execution_count": null,
   "metadata": {
    "pycharm": {
     "is_executing": true
    }
   },
   "outputs": [],
   "source": [
    "df.head()"
   ]
  },
  {
   "cell_type": "code",
   "execution_count": null,
   "metadata": {
    "pycharm": {
     "is_executing": true
    }
   },
   "outputs": [],
   "source": [
    "df.shape"
   ]
  },
  {
   "cell_type": "code",
   "execution_count": null,
   "metadata": {
    "pycharm": {
     "is_executing": true
    }
   },
   "outputs": [],
   "source": [
    "new = df[\"title\"].str.split(\",\", expand = True)\n",
    "df[\"rooms\"]= new[0]\n",
    "df[\"square\"]= new[1] \n",
    "#df[\"floor\"]=new[2]\n",
    "df.drop(columns =[\"title\"], inplace = True)\n",
    "\n",
    "new = df[\"address\"].str.split(\",\", expand = True)\n",
    "df[\"district\"]= new[0]\n",
    "df[\"street\"]= new[1]\n",
    "df.drop(columns =[\"address\"], inplace = True)\n",
    "\n",
    "new = df[\"district\"].str.split(expand = True)\n",
    "df[\"district\"] = new[0]\n",
    "\n",
    "new = df[\"square\"].str.split(expand = True)\n",
    "df[\"square\"] = new[0]\n",
    "df['square']=pd.to_numeric(df['square'])\n",
    "\n",
    "df.drop(columns =[\"href\"], inplace = True)\n",
    "\n",
    "new = df[\"price\"].str.split(expand = True)\n",
    "new = new[0]+new[1]\n",
    "df[\"price\"] = new\n",
    "df['price']=pd.to_numeric(df['price'])\n",
    "df.loc[df.price <= 10000,'price'] = df.price * 1000\n",
    "\n",
    "new = df['rooms'].str.split('-', expand = True)\n",
    "df['rooms'] = new[0]\n",
    "\n",
    "df.drop(columns =[\"street\"], inplace = True)\n",
    "\n",
    "#new = df['floor'].str.split('/', expand = True)\n",
    "#df['floor'] = new[0]\n",
    "#new = new.dropna()\n",
    "#new = new[1].str.split(' ',expand = True)\n",
    "#df['total floors'] = new[0]\n",
    "\n",
    "df = df.dropna()\n",
    "\n",
    "districts = ['Алмалинский','Бостандыкский','Ауэзовский','Медеуский','Жетысуский','Наурызбайский','Алатауский','Турксибский']\n",
    "df = df[df['district'].isin(districts)]\n",
    "\n",
    "year = list(df['content'])\n",
    "yeardf=[]\n",
    "for years in year:\n",
    "    years = years[years.find(\"г.п.\")-5:years.find(\"г.п.\")-1]\n",
    "    yeardf.append(years)\n",
    "df['year'] = yeardf\n",
    "\n",
    "df.drop(columns = [\"content\"], inplace = True)\n",
    "\n",
    "df['yearisnull'] = df['year'].str.find('    ')\n",
    "df = df.loc[df.yearisnull != 0]\n",
    "\n",
    "df.drop(columns =[\"yearisnull\"], inplace = True)\n",
    "\n",
    "df['rooms']=pd.to_numeric(df['rooms'])\n",
    "#df = df.loc[df.rooms!=11]"
   ]
  },
  {
   "cell_type": "code",
   "execution_count": null,
   "metadata": {
    "pycharm": {
     "is_executing": true
    }
   },
   "outputs": [],
   "source": [
    "df.head()"
   ]
  },
  {
   "cell_type": "code",
   "execution_count": null,
   "metadata": {
    "pycharm": {
     "is_executing": true
    }
   },
   "outputs": [],
   "source": [
    "df.shape"
   ]
  },
  {
   "cell_type": "code",
   "execution_count": null,
   "metadata": {
    "pycharm": {
     "is_executing": true
    }
   },
   "outputs": [],
   "source": [
    "import matplotlib as mpl\n",
    "import matplotlib.pyplot as plt"
   ]
  },
  {
   "cell_type": "code",
   "execution_count": null,
   "metadata": {
    "pycharm": {
     "is_executing": true
    }
   },
   "outputs": [],
   "source": [
    "df1 = df.groupby(['district']).size().reset_index(name='count')\n",
    "df1.sort_values(by=['count'], inplace=True)\n",
    "df1"
   ]
  },
  {
   "cell_type": "code",
   "execution_count": null,
   "metadata": {
    "pycharm": {
     "is_executing": true
    }
   },
   "outputs": [],
   "source": [
    "df1.set_index('district', inplace=True)"
   ]
  },
  {
   "cell_type": "code",
   "execution_count": null,
   "metadata": {
    "pycharm": {
     "is_executing": true
    }
   },
   "outputs": [],
   "source": [
    "df1.plot(kind='barh', \n",
    "             stacked=False,\n",
    "             figsize=(20, 10),\n",
    "             color='g',\n",
    "             label=df1['count']\n",
    "             )\n",
    "\n",
    "plt.title('Распределение арендного жилья в городе Алматы')\n",
    "plt.xlabel('Количество квартир')\n",
    "plt.ylabel('Районы')\n",
    "plt.show()"
   ]
  },
  {
   "cell_type": "code",
   "execution_count": null,
   "metadata": {
    "pycharm": {
     "is_executing": true
    }
   },
   "outputs": [],
   "source": [
    "df.plot(kind='scatter', x='price', y='square', figsize=(12, 9), color='darkblue')\n",
    "\n",
    "plt.title('Зависимость стоимости аренды от площади квартиры')\n",
    "plt.xlabel('Стоимость аренды')\n",
    "plt.ylabel('Площадь')\n",
    "\n",
    "x = df['price']\n",
    "y = df['square']\n",
    "fit = np.polyfit(x, y, deg=1)\n",
    "plt.plot(x, fit[0] * x + fit[1], color='red')\n",
    "\n",
    "plt.show()"
   ]
  },
  {
   "cell_type": "code",
   "execution_count": null,
   "metadata": {
    "pycharm": {
     "is_executing": true
    }
   },
   "outputs": [],
   "source": [
    "df2 = df.loc[df.price <= 200000]"
   ]
  },
  {
   "cell_type": "code",
   "execution_count": null,
   "metadata": {
    "pycharm": {
     "is_executing": true
    }
   },
   "outputs": [],
   "source": [
    "df2.head()"
   ]
  },
  {
   "cell_type": "code",
   "execution_count": null,
   "metadata": {
    "pycharm": {
     "is_executing": true
    }
   },
   "outputs": [],
   "source": [
    "df2.shape"
   ]
  },
  {
   "cell_type": "code",
   "execution_count": null,
   "metadata": {
    "pycharm": {
     "is_executing": true
    }
   },
   "outputs": [],
   "source": [
    "df2.plot(kind='scatter', x='price', y='square', figsize=(12, 9), color='darkblue')\n",
    "\n",
    "plt.title('Зависимость стоимости аренды от площади квартиры')\n",
    "plt.xlabel('Стоимость аренды')\n",
    "plt.ylabel('Площадь')\n",
    "\n",
    "x = df2['price']\n",
    "y = df2['square']\n",
    "fit = np.polyfit(x, y, deg=1)\n",
    "plt.plot(x, fit[0] * x + fit[1], color='red')\n",
    "\n",
    "plt.show()"
   ]
  },
  {
   "cell_type": "code",
   "execution_count": null,
   "metadata": {
    "pycharm": {
     "is_executing": true
    }
   },
   "outputs": [],
   "source": [
    "df4 = df.groupby(['district']).sum()\n",
    "#df4.sort_values(by=['count'], inplace=True)\n",
    "df4"
   ]
  },
  {
   "cell_type": "code",
   "execution_count": null,
   "metadata": {
    "pycharm": {
     "is_executing": true
    }
   },
   "outputs": [],
   "source": [
    "n_groups = 8\n",
    "\n",
    "# create plot\n",
    "fig, ax = plt.subplots()\n",
    "index = np.arange(n_groups)\n",
    "bar_width = 0.35\n",
    "\n",
    "rects1 = plt.barh(index + bar_width, df4['owner'], bar_width,\n",
    "color='b',\n",
    "label='Хозяин')\n",
    "\n",
    "rects2 = plt.barh(index, df4['specialist'], bar_width,\n",
    "color='g',\n",
    "label='Риэлтор')\n",
    "\n",
    "plt.ylabel('Районы')\n",
    "plt.xlabel('Количество квартир')\n",
    "plt.title('Распределение арендного жилья в городе Алматы')\n",
    "plt.yticks(index + bar_width/2, df4.index)\n",
    "plt.legend()"
   ]
  },
  {
   "cell_type": "code",
   "execution_count": null,
   "metadata": {
    "pycharm": {
     "is_executing": true
    }
   },
   "outputs": [],
   "source": [
    "df.head()"
   ]
  },
  {
   "cell_type": "code",
   "execution_count": null,
   "metadata": {
    "pycharm": {
     "is_executing": true
    }
   },
   "outputs": [],
   "source": [
    "df5 = df.groupby(['rooms']).size().reset_index(name='count')\n",
    "df5.sort_values(by=['count'], inplace=True)\n",
    "df5.set_index('rooms', inplace=True)\n",
    "df5"
   ]
  },
  {
   "cell_type": "code",
   "execution_count": null,
   "metadata": {
    "pycharm": {
     "is_executing": true
    }
   },
   "outputs": [],
   "source": [
    "df5.plot(kind='barh', \n",
    "             stacked=False,\n",
    "             figsize=(20, 10),\n",
    "             color='g',\n",
    "             label=df5['count']\n",
    "             )\n",
    "\n",
    "plt.title('Распределение арендного жилья в городе Алматы')\n",
    "plt.xlabel('Количество квартир')\n",
    "plt.ylabel('Районы')\n",
    "plt.show()"
   ]
  },
  {
   "cell_type": "code",
   "execution_count": null,
   "metadata": {
    "pycharm": {
     "is_executing": true
    }
   },
   "outputs": [],
   "source": [
    "df6 = df.groupby(['district','price']).size().reset_index(name='count')\n",
    "df6.sort_values(by=['count'], inplace=True)\n",
    "df6 = df6.pivot(index='price',columns='district',values='count')"
   ]
  },
  {
   "cell_type": "code",
   "execution_count": null,
   "metadata": {
    "pycharm": {
     "is_executing": true
    }
   },
   "outputs": [],
   "source": [
    "df6"
   ]
  },
  {
   "cell_type": "code",
   "execution_count": null,
   "metadata": {
    "pycharm": {
     "is_executing": true
    }
   },
   "outputs": [],
   "source": []
  }
 ],
 "metadata": {
  "kernelspec": {
   "display_name": "Python 3 (ipykernel)",
   "language": "python",
   "name": "python3"
  },
  "language_info": {
   "codemirror_mode": {
    "name": "ipython",
    "version": 3
   },
   "file_extension": ".py",
   "mimetype": "text/x-python",
   "name": "python",
   "nbconvert_exporter": "python",
   "pygments_lexer": "ipython3",
   "version": "3.10.6"
  }
 },
 "nbformat": 4,
 "nbformat_minor": 2
}
