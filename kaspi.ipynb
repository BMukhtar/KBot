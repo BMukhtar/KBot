{
 "cells": [
  {
   "cell_type": "code",
   "execution_count": 1,
   "metadata": {},
   "outputs": [
    {
     "data": {
      "text/plain": "'\\nInitial setup:\\n1) create virtualenv project using pycharm\\n\\n2) install the following libraries to virtualenv:\\npip install numpy\\npip install pandas\\npip install requests\\npip install beautifulsoup4\\npip install lxml\\n'"
     },
     "execution_count": 1,
     "metadata": {},
     "output_type": "execute_result"
    }
   ],
   "source": [
    "\"\"\"\n",
    "Initial setup:\n",
    "1) create virtualenv project using pycharm\n",
    "\n",
    "2) install the following libraries to virtualenv:\n",
    "pip install numpy\n",
    "pip install pandas\n",
    "pip install requests\n",
    "pip install beautifulsoup4\n",
    "pip install lxml\n",
    "\"\"\""
   ]
  },
  {
   "cell_type": "code",
   "execution_count": 2,
   "outputs": [],
   "source": [
    "import requests  # library to send requests to web site(krisha.kz)\n",
    "from bs4 import BeautifulSoup as bs  # library to copy all html-code\n",
    "import csv  # library to write info to csv\n",
    "import pandas as pd  # to convert csv to pandas DataFrame\n",
    "import numpy as np  # to work np. arrays\n",
    "import time"
   ],
   "metadata": {
    "collapsed": false
   }
  },
  {
   "cell_type": "code",
   "execution_count": null,
   "outputs": [
    {
     "name": "stdout",
     "output_type": "stream",
     "text": [
      "parsing: https://krisha.kz/arenda/kvartiry/almaty/?das[rent.period]=2\n",
      "parsing: https://krisha.kz/arenda/kvartiry/almaty/?das[rent.period]=2&page=2\n",
      "parsing: https://krisha.kz/arenda/kvartiry/almaty/?das[rent.period]=2&page=3\n",
      "parsing: https://krisha.kz/arenda/kvartiry/almaty/?das[rent.period]=2&page=4\n",
      "parsing: https://krisha.kz/arenda/kvartiry/almaty/?das[rent.period]=2&page=5\n",
      "parsing: https://krisha.kz/arenda/kvartiry/almaty/?das[rent.period]=2&page=6\n",
      "parsing: https://krisha.kz/arenda/kvartiry/almaty/?das[rent.period]=2&page=7\n",
      "parsing: https://krisha.kz/arenda/kvartiry/almaty/?das[rent.period]=2&page=8\n",
      "parsing: https://krisha.kz/arenda/kvartiry/almaty/?das[rent.period]=2&page=9\n",
      "parsing: https://krisha.kz/arenda/kvartiry/almaty/?das[rent.period]=2&page=10\n",
      "parsing: https://krisha.kz/arenda/kvartiry/almaty/?das[rent.period]=2&page=11\n",
      "parsing: https://krisha.kz/arenda/kvartiry/almaty/?das[rent.period]=2&page=12\n",
      "parsing: https://krisha.kz/arenda/kvartiry/almaty/?das[rent.period]=2&page=13\n",
      "parsing: https://krisha.kz/arenda/kvartiry/almaty/?das[rent.period]=2&page=14\n",
      "parsing: https://krisha.kz/arenda/kvartiry/almaty/?das[rent.period]=2&page=15\n",
      "parsing: https://krisha.kz/arenda/kvartiry/almaty/?das[rent.period]=2&page=16\n",
      "parsing: https://krisha.kz/arenda/kvartiry/almaty/?das[rent.period]=2&page=17\n",
      "parsing: https://krisha.kz/arenda/kvartiry/almaty/?das[rent.period]=2&page=18\n",
      "parsing: https://krisha.kz/arenda/kvartiry/almaty/?das[rent.period]=2&page=19\n",
      "parsing: https://krisha.kz/arenda/kvartiry/almaty/?das[rent.period]=2&page=20\n",
      "parsing: https://krisha.kz/arenda/kvartiry/almaty/?das[rent.period]=2&page=21\n",
      "parsing: https://krisha.kz/arenda/kvartiry/almaty/?das[rent.period]=2&page=22\n",
      "parsing: https://krisha.kz/arenda/kvartiry/almaty/?das[rent.period]=2&page=23\n",
      "parsing: https://krisha.kz/arenda/kvartiry/almaty/?das[rent.period]=2&page=24\n",
      "parsing: https://krisha.kz/arenda/kvartiry/almaty/?das[rent.period]=2&page=25\n",
      "parsing: https://krisha.kz/arenda/kvartiry/almaty/?das[rent.period]=2&page=26\n",
      "parsing: https://krisha.kz/arenda/kvartiry/almaty/?das[rent.period]=2&page=27\n",
      "parsing: https://krisha.kz/arenda/kvartiry/almaty/?das[rent.period]=2&page=28\n",
      "parsing: https://krisha.kz/arenda/kvartiry/almaty/?das[rent.period]=2&page=29\n",
      "parsing: https://krisha.kz/arenda/kvartiry/almaty/?das[rent.period]=2&page=30\n",
      "parsing: https://krisha.kz/arenda/kvartiry/almaty/?das[rent.period]=2&page=31\n",
      "parsing: https://krisha.kz/arenda/kvartiry/almaty/?das[rent.period]=2&page=32\n",
      "parsing: https://krisha.kz/arenda/kvartiry/almaty/?das[rent.period]=2&page=33\n",
      "parsing: https://krisha.kz/arenda/kvartiry/almaty/?das[rent.period]=2&page=34\n",
      "parsing: https://krisha.kz/arenda/kvartiry/almaty/?das[rent.period]=2&page=35\n",
      "parsing: https://krisha.kz/arenda/kvartiry/almaty/?das[rent.period]=2&page=36\n",
      "parsing: https://krisha.kz/arenda/kvartiry/almaty/?das[rent.period]=2&page=37\n",
      "parsing: https://krisha.kz/arenda/kvartiry/almaty/?das[rent.period]=2&page=38\n",
      "parsing: https://krisha.kz/arenda/kvartiry/almaty/?das[rent.period]=2&page=39\n",
      "parsing: https://krisha.kz/arenda/kvartiry/almaty/?das[rent.period]=2&page=40\n",
      "parsing: https://krisha.kz/arenda/kvartiry/almaty/?das[rent.period]=2&page=41\n",
      "parsing: https://krisha.kz/arenda/kvartiry/almaty/?das[rent.period]=2&page=42\n",
      "parsing: https://krisha.kz/arenda/kvartiry/almaty/?das[rent.period]=2&page=43\n",
      "parsing: https://krisha.kz/arenda/kvartiry/almaty/?das[rent.period]=2&page=44\n",
      "parsing: https://krisha.kz/arenda/kvartiry/almaty/?das[rent.period]=2&page=45\n",
      "parsing: https://krisha.kz/arenda/kvartiry/almaty/?das[rent.period]=2&page=46\n",
      "parsing: https://krisha.kz/arenda/kvartiry/almaty/?das[rent.period]=2&page=47\n",
      "parsing: https://krisha.kz/arenda/kvartiry/almaty/?das[rent.period]=2&page=48\n",
      "parsing: https://krisha.kz/arenda/kvartiry/almaty/?das[rent.period]=2&page=49\n",
      "parsing: https://krisha.kz/arenda/kvartiry/almaty/?das[rent.period]=2&page=50\n",
      "parsing: https://krisha.kz/arenda/kvartiry/almaty/?das[rent.period]=2&page=51\n",
      "parsing: https://krisha.kz/arenda/kvartiry/almaty/?das[rent.period]=2&page=52\n",
      "parsing: https://krisha.kz/arenda/kvartiry/almaty/?das[rent.period]=2&page=53\n",
      "parsing: https://krisha.kz/arenda/kvartiry/almaty/?das[rent.period]=2&page=54\n",
      "parsing: https://krisha.kz/arenda/kvartiry/almaty/?das[rent.period]=2&page=55\n",
      "parsing: https://krisha.kz/arenda/kvartiry/almaty/?das[rent.period]=2&page=56\n",
      "parsing: https://krisha.kz/arenda/kvartiry/almaty/?das[rent.period]=2&page=57\n",
      "parsing: https://krisha.kz/arenda/kvartiry/almaty/?das[rent.period]=2&page=58\n",
      "parsing: https://krisha.kz/arenda/kvartiry/almaty/?das[rent.period]=2&page=59\n",
      "parsing: https://krisha.kz/arenda/kvartiry/almaty/?das[rent.period]=2&page=60\n",
      "parsing: https://krisha.kz/arenda/kvartiry/almaty/?das[rent.period]=2&page=61\n",
      "parsing: https://krisha.kz/arenda/kvartiry/almaty/?das[rent.period]=2&page=62\n",
      "parsing: https://krisha.kz/arenda/kvartiry/almaty/?das[rent.period]=2&page=63\n",
      "parsing: https://krisha.kz/arenda/kvartiry/almaty/?das[rent.period]=2&page=64\n",
      "parsing: https://krisha.kz/arenda/kvartiry/almaty/?das[rent.period]=2&page=65\n",
      "parsing: https://krisha.kz/arenda/kvartiry/almaty/?das[rent.period]=2&page=66\n",
      "parsing: https://krisha.kz/arenda/kvartiry/almaty/?das[rent.period]=2&page=67\n",
      "parsing: https://krisha.kz/arenda/kvartiry/almaty/?das[rent.period]=2&page=68\n",
      "parsing: https://krisha.kz/arenda/kvartiry/almaty/?das[rent.period]=2&page=69\n",
      "parsing: https://krisha.kz/arenda/kvartiry/almaty/?das[rent.period]=2&page=70\n",
      "parsing: https://krisha.kz/arenda/kvartiry/almaty/?das[rent.period]=2&page=71\n",
      "parsing: https://krisha.kz/arenda/kvartiry/almaty/?das[rent.period]=2&page=72\n",
      "parsing: https://krisha.kz/arenda/kvartiry/almaty/?das[rent.period]=2&page=73\n",
      "parsing: https://krisha.kz/arenda/kvartiry/almaty/?das[rent.period]=2&page=74\n",
      "parsing: https://krisha.kz/arenda/kvartiry/almaty/?das[rent.period]=2&page=75\n",
      "parsing: https://krisha.kz/arenda/kvartiry/almaty/?das[rent.period]=2&page=76\n",
      "parsing: https://krisha.kz/arenda/kvartiry/almaty/?das[rent.period]=2&page=77\n",
      "parsing: https://krisha.kz/arenda/kvartiry/almaty/?das[rent.period]=2&page=78\n",
      "parsing: https://krisha.kz/arenda/kvartiry/almaty/?das[rent.period]=2&page=79\n",
      "parsing: https://krisha.kz/arenda/kvartiry/almaty/?das[rent.period]=2&page=80\n",
      "parsing: https://krisha.kz/arenda/kvartiry/almaty/?das[rent.period]=2&page=81\n",
      "parsing: https://krisha.kz/arenda/kvartiry/almaty/?das[rent.period]=2&page=82\n",
      "parsing: https://krisha.kz/arenda/kvartiry/almaty/?das[rent.period]=2&page=83\n",
      "parsing: https://krisha.kz/arenda/kvartiry/almaty/?das[rent.period]=2&page=84\n",
      "parsing: https://krisha.kz/arenda/kvartiry/almaty/?das[rent.period]=2&page=85\n",
      "parsing: https://krisha.kz/arenda/kvartiry/almaty/?das[rent.period]=2&page=86\n",
      "parsing: https://krisha.kz/arenda/kvartiry/almaty/?das[rent.period]=2&page=87\n",
      "parsing: https://krisha.kz/arenda/kvartiry/almaty/?das[rent.period]=2&page=88\n",
      "parsing: https://krisha.kz/arenda/kvartiry/almaty/?das[rent.period]=2&page=89\n",
      "parsing: https://krisha.kz/arenda/kvartiry/almaty/?das[rent.period]=2&page=90\n",
      "parsing: https://krisha.kz/arenda/kvartiry/almaty/?das[rent.period]=2&page=91\n",
      "parsing: https://krisha.kz/arenda/kvartiry/almaty/?das[rent.period]=2&page=92\n",
      "parsing: https://krisha.kz/arenda/kvartiry/almaty/?das[rent.period]=2&page=93\n",
      "parsing: https://krisha.kz/arenda/kvartiry/almaty/?das[rent.period]=2&page=94\n",
      "parsing: https://krisha.kz/arenda/kvartiry/almaty/?das[rent.period]=2&page=95\n",
      "parsing: https://krisha.kz/arenda/kvartiry/almaty/?das[rent.period]=2&page=96\n",
      "parsing: https://krisha.kz/arenda/kvartiry/almaty/?das[rent.period]=2&page=97\n",
      "parsing: https://krisha.kz/arenda/kvartiry/almaty/?das[rent.period]=2&page=98\n",
      "parsing: https://krisha.kz/arenda/kvartiry/almaty/?das[rent.period]=2&page=99\n",
      "parsing: https://krisha.kz/arenda/kvartiry/almaty/?das[rent.period]=2&page=100\n",
      "parsing: https://krisha.kz/arenda/kvartiry/almaty/?das[rent.period]=2&page=101\n",
      "parsing: https://krisha.kz/arenda/kvartiry/almaty/?das[rent.period]=2&page=102\n",
      "parsing: https://krisha.kz/arenda/kvartiry/almaty/?das[rent.period]=2&page=103\n",
      "parsing: https://krisha.kz/arenda/kvartiry/almaty/?das[rent.period]=2&page=104\n",
      "parsing: https://krisha.kz/arenda/kvartiry/almaty/?das[rent.period]=2&page=105\n",
      "parsing: https://krisha.kz/arenda/kvartiry/almaty/?das[rent.period]=2&page=106\n",
      "parsing: https://krisha.kz/arenda/kvartiry/almaty/?das[rent.period]=2&page=107\n",
      "parsing: https://krisha.kz/arenda/kvartiry/almaty/?das[rent.period]=2&page=108\n",
      "parsing: https://krisha.kz/arenda/kvartiry/almaty/?das[rent.period]=2&page=109\n",
      "parsing: https://krisha.kz/arenda/kvartiry/almaty/?das[rent.period]=2&page=110\n",
      "parsing: https://krisha.kz/arenda/kvartiry/almaty/?das[rent.period]=2&page=111\n"
     ]
    }
   ],
   "source": [
    "headers = {\n",
    "    'accept': '*/*',\n",
    "    'User-Agent': 'Mozilla/5.0 (Macintosh; Intel Mac OS X 10_15_7) AppleWebKit/537.36 (KHTML, like Gecko) Chrome/106.0.0.0 Safari/537.36'\n",
    "}\n",
    "\n",
    "base_url = 'https://kaspi.kz/shop/c/notebooks/'\n",
    "\n",
    "def krisha_parse(base_url, headers):\n",
    "    flats = []\n",
    "    urls = []\n",
    "    urls.append(base_url)\n",
    "    session = requests.Session()\n",
    "    request = session.get(base_url, headers=headers)\n",
    "    if request.status_code == 200:\n",
    "        soup = bs(request.content, 'lxml')\n",
    "        # try:\n",
    "        #     pagination = soup.find_all('a', attrs={'class': 'paginator__btn'})\n",
    "        #     count = int(pagination[-2].text)\n",
    "        #     for i in range(2, count - 1):\n",
    "        #         url = 'https://kaspi.kz/shop/c/notebooks/?page={i}'.format(i=i)\n",
    "        #         if url not in urls:\n",
    "        #             urls.append(url)\n",
    "        # except:\n",
    "        #     pass\n",
    "\n",
    "        for url in urls:\n",
    "            time.sleep(1)\n",
    "            print(\"parsing: \" + url)\n",
    "\n",
    "            request = session.get(url, headers=headers)\n",
    "            soup = bs(request.content, 'lxml')\n",
    "            divs = soup.find_all('div', attrs={'class': 'a-card a-storage-live ddl_product ddl_product_link not-colored is-visible'})\n",
    "            for div in divs:\n",
    "                title = div.find('a', attrs={'class': 'a-card__title'}).string\n",
    "                price = div.find('div', attrs={'class': 'a-card__price'}).text\n",
    "                href = div.find('a', attrs={'class': 'a-card__title'})['href']\n",
    "                address = div.find('div', attrs={'class': 'a-card__subtitle'}).text\n",
    "                content = div.find('div', attrs={'class': 'a-card__text-preview'}).text\n",
    "                owner = div.find('div', attrs={'class': 'a-card__owner user-title-not-pro'})\n",
    "                if owner is None:\n",
    "                    specialist = 1\n",
    "                    owner = 0\n",
    "                else:\n",
    "                    specialist = 0\n",
    "                    owner = 1\n",
    "                flats.append({\n",
    "                    'title': title,\n",
    "                    'price': price,\n",
    "                    'href': href,\n",
    "                    'address': address,\n",
    "                    'content': content,\n",
    "                    'specialist': specialist,\n",
    "                    'owner': owner\n",
    "                })\n",
    "        print(len(flats))\n",
    "    else:\n",
    "        print('ERROR')\n",
    "    return flats\n",
    "\n",
    "\n",
    "def files_writer(flats):\n",
    "    # with open('HeadHunter.csv', 'a', encoding='utf-8') as file:\n",
    "    with open(r\"Krisha.csv\", \"w\", encoding='utf-8') as file:\n",
    "        a_pen = csv.writer(file)\n",
    "        a_pen.writerow(('title', 'price', 'href', 'address', 'content', 'owner', 'specialist'))\n",
    "        for flat in flats:\n",
    "            a_pen.writerow((flat['title'], flat['price'], flat['href'], flat['address'], flat['content'], flat['owner'],\n",
    "                            flat['specialist']))\n",
    "\n",
    "\n",
    "flats = krisha_parse(base_url, headers)\n",
    "files_writer(flats)"
   ],
   "metadata": {
    "collapsed": false,
    "pycharm": {
     "is_executing": true
    }
   }
  },
  {
   "cell_type": "code",
   "execution_count": null,
   "metadata": {
    "pycharm": {
     "is_executing": true
    }
   },
   "outputs": [],
   "source": [
    "df = pd.read_csv('Krisha.csv')"
   ]
  },
  {
   "cell_type": "code",
   "execution_count": null,
   "metadata": {
    "pycharm": {
     "is_executing": true
    }
   },
   "outputs": [],
   "source": [
    "df.head()"
   ]
  },
  {
   "cell_type": "code",
   "execution_count": null,
   "metadata": {
    "pycharm": {
     "is_executing": true
    }
   },
   "outputs": [],
   "source": [
    "df.shape"
   ]
  },
  {
   "cell_type": "code",
   "execution_count": null,
   "metadata": {
    "pycharm": {
     "is_executing": true
    }
   },
   "outputs": [],
   "source": [
    "new = df[\"title\"].str.split(\",\", expand = True)\n",
    "df[\"rooms\"]= new[0]\n",
    "df[\"square\"]= new[1] \n",
    "#df[\"floor\"]=new[2]\n",
    "df.drop(columns =[\"title\"], inplace = True)\n",
    "\n",
    "new = df[\"address\"].str.split(\",\", expand = True)\n",
    "df[\"district\"]= new[0]\n",
    "df[\"street\"]= new[1]\n",
    "df.drop(columns =[\"address\"], inplace = True)\n",
    "\n",
    "new = df[\"district\"].str.split(expand = True)\n",
    "df[\"district\"] = new[0]\n",
    "\n",
    "new = df[\"square\"].str.split(expand = True)\n",
    "df[\"square\"] = new[0]\n",
    "df['square']=pd.to_numeric(df['square'])\n",
    "\n",
    "df.drop(columns =[\"href\"], inplace = True)\n",
    "\n",
    "new = df[\"price\"].str.split(expand = True)\n",
    "new = new[0]+new[1]\n",
    "df[\"price\"] = new\n",
    "df['price']=pd.to_numeric(df['price'])\n",
    "df.loc[df.price <= 10000,'price'] = df.price * 1000\n",
    "\n",
    "new = df['rooms'].str.split('-', expand = True)\n",
    "df['rooms'] = new[0]\n",
    "\n",
    "df.drop(columns =[\"street\"], inplace = True)\n",
    "\n",
    "#new = df['floor'].str.split('/', expand = True)\n",
    "#df['floor'] = new[0]\n",
    "#new = new.dropna()\n",
    "#new = new[1].str.split(' ',expand = True)\n",
    "#df['total floors'] = new[0]\n",
    "\n",
    "df = df.dropna()\n",
    "\n",
    "districts = ['Алмалинский','Бостандыкский','Ауэзовский','Медеуский','Жетысуский','Наурызбайский','Алатауский','Турксибский']\n",
    "df = df[df['district'].isin(districts)]\n",
    "\n",
    "year = list(df['content'])\n",
    "yeardf=[]\n",
    "for years in year:\n",
    "    years = years[years.find(\"г.п.\")-5:years.find(\"г.п.\")-1]\n",
    "    yeardf.append(years)\n",
    "df['year'] = yeardf\n",
    "\n",
    "df.drop(columns = [\"content\"], inplace = True)\n",
    "\n",
    "df['yearisnull'] = df['year'].str.find('    ')\n",
    "df = df.loc[df.yearisnull != 0]\n",
    "\n",
    "df.drop(columns =[\"yearisnull\"], inplace = True)\n",
    "\n",
    "df['rooms']=pd.to_numeric(df['rooms'])\n",
    "#df = df.loc[df.rooms!=11]"
   ]
  },
  {
   "cell_type": "code",
   "execution_count": null,
   "metadata": {
    "pycharm": {
     "is_executing": true
    }
   },
   "outputs": [],
   "source": [
    "df.head()"
   ]
  },
  {
   "cell_type": "code",
   "execution_count": null,
   "metadata": {
    "pycharm": {
     "is_executing": true
    }
   },
   "outputs": [],
   "source": [
    "df.shape"
   ]
  },
  {
   "cell_type": "code",
   "execution_count": null,
   "metadata": {
    "pycharm": {
     "is_executing": true
    }
   },
   "outputs": [],
   "source": [
    "import matplotlib as mpl\n",
    "import matplotlib.pyplot as plt"
   ]
  },
  {
   "cell_type": "code",
   "execution_count": null,
   "metadata": {
    "pycharm": {
     "is_executing": true
    }
   },
   "outputs": [],
   "source": [
    "df1 = df.groupby(['district']).size().reset_index(name='count')\n",
    "df1.sort_values(by=['count'], inplace=True)\n",
    "df1"
   ]
  },
  {
   "cell_type": "code",
   "execution_count": null,
   "metadata": {
    "pycharm": {
     "is_executing": true
    }
   },
   "outputs": [],
   "source": [
    "df1.set_index('district', inplace=True)"
   ]
  },
  {
   "cell_type": "code",
   "execution_count": null,
   "metadata": {
    "pycharm": {
     "is_executing": true
    }
   },
   "outputs": [],
   "source": [
    "df1.plot(kind='barh', \n",
    "             stacked=False,\n",
    "             figsize=(20, 10),\n",
    "             color='g',\n",
    "             label=df1['count']\n",
    "             )\n",
    "\n",
    "plt.title('Распределение арендного жилья в городе Алматы')\n",
    "plt.xlabel('Количество квартир')\n",
    "plt.ylabel('Районы')\n",
    "plt.show()"
   ]
  },
  {
   "cell_type": "code",
   "execution_count": null,
   "metadata": {
    "pycharm": {
     "is_executing": true
    }
   },
   "outputs": [],
   "source": [
    "df.plot(kind='scatter', x='price', y='square', figsize=(12, 9), color='darkblue')\n",
    "\n",
    "plt.title('Зависимость стоимости аренды от площади квартиры')\n",
    "plt.xlabel('Стоимость аренды')\n",
    "plt.ylabel('Площадь')\n",
    "\n",
    "x = df['price']\n",
    "y = df['square']\n",
    "fit = np.polyfit(x, y, deg=1)\n",
    "plt.plot(x, fit[0] * x + fit[1], color='red')\n",
    "\n",
    "plt.show()"
   ]
  },
  {
   "cell_type": "code",
   "execution_count": null,
   "metadata": {
    "pycharm": {
     "is_executing": true
    }
   },
   "outputs": [],
   "source": [
    "df2 = df.loc[df.price <= 200000]"
   ]
  },
  {
   "cell_type": "code",
   "execution_count": null,
   "metadata": {
    "pycharm": {
     "is_executing": true
    }
   },
   "outputs": [],
   "source": [
    "df2.head()"
   ]
  },
  {
   "cell_type": "code",
   "execution_count": null,
   "metadata": {
    "pycharm": {
     "is_executing": true
    }
   },
   "outputs": [],
   "source": [
    "df2.shape"
   ]
  },
  {
   "cell_type": "code",
   "execution_count": null,
   "metadata": {
    "pycharm": {
     "is_executing": true
    }
   },
   "outputs": [],
   "source": [
    "df2.plot(kind='scatter', x='price', y='square', figsize=(12, 9), color='darkblue')\n",
    "\n",
    "plt.title('Зависимость стоимости аренды от площади квартиры')\n",
    "plt.xlabel('Стоимость аренды')\n",
    "plt.ylabel('Площадь')\n",
    "\n",
    "x = df2['price']\n",
    "y = df2['square']\n",
    "fit = np.polyfit(x, y, deg=1)\n",
    "plt.plot(x, fit[0] * x + fit[1], color='red')\n",
    "\n",
    "plt.show()"
   ]
  },
  {
   "cell_type": "code",
   "execution_count": null,
   "metadata": {
    "pycharm": {
     "is_executing": true
    }
   },
   "outputs": [],
   "source": [
    "df4 = df.groupby(['district']).sum()\n",
    "#df4.sort_values(by=['count'], inplace=True)\n",
    "df4"
   ]
  },
  {
   "cell_type": "code",
   "execution_count": null,
   "metadata": {
    "pycharm": {
     "is_executing": true
    }
   },
   "outputs": [],
   "source": [
    "n_groups = 8\n",
    "\n",
    "# create plot\n",
    "fig, ax = plt.subplots()\n",
    "index = np.arange(n_groups)\n",
    "bar_width = 0.35\n",
    "\n",
    "rects1 = plt.barh(index + bar_width, df4['owner'], bar_width,\n",
    "color='b',\n",
    "label='Хозяин')\n",
    "\n",
    "rects2 = plt.barh(index, df4['specialist'], bar_width,\n",
    "color='g',\n",
    "label='Риэлтор')\n",
    "\n",
    "plt.ylabel('Районы')\n",
    "plt.xlabel('Количество квартир')\n",
    "plt.title('Распределение арендного жилья в городе Алматы')\n",
    "plt.yticks(index + bar_width/2, df4.index)\n",
    "plt.legend()"
   ]
  },
  {
   "cell_type": "code",
   "execution_count": null,
   "metadata": {
    "pycharm": {
     "is_executing": true
    }
   },
   "outputs": [],
   "source": [
    "df.head()"
   ]
  },
  {
   "cell_type": "code",
   "execution_count": null,
   "metadata": {
    "pycharm": {
     "is_executing": true
    }
   },
   "outputs": [],
   "source": [
    "df5 = df.groupby(['rooms']).size().reset_index(name='count')\n",
    "df5.sort_values(by=['count'], inplace=True)\n",
    "df5.set_index('rooms', inplace=True)\n",
    "df5"
   ]
  },
  {
   "cell_type": "code",
   "execution_count": null,
   "metadata": {
    "pycharm": {
     "is_executing": true
    }
   },
   "outputs": [],
   "source": [
    "df5.plot(kind='barh', \n",
    "             stacked=False,\n",
    "             figsize=(20, 10),\n",
    "             color='g',\n",
    "             label=df5['count']\n",
    "             )\n",
    "\n",
    "plt.title('Распределение арендного жилья в городе Алматы')\n",
    "plt.xlabel('Количество квартир')\n",
    "plt.ylabel('Районы')\n",
    "plt.show()"
   ]
  },
  {
   "cell_type": "code",
   "execution_count": null,
   "metadata": {
    "pycharm": {
     "is_executing": true
    }
   },
   "outputs": [],
   "source": [
    "df6 = df.groupby(['district','price']).size().reset_index(name='count')\n",
    "df6.sort_values(by=['count'], inplace=True)\n",
    "df6 = df6.pivot(index='price',columns='district',values='count')"
   ]
  },
  {
   "cell_type": "code",
   "execution_count": null,
   "metadata": {
    "pycharm": {
     "is_executing": true
    }
   },
   "outputs": [],
   "source": [
    "df6"
   ]
  },
  {
   "cell_type": "code",
   "execution_count": null,
   "metadata": {
    "pycharm": {
     "is_executing": true
    }
   },
   "outputs": [],
   "source": []
  }
 ],
 "metadata": {
  "kernelspec": {
   "display_name": "Python 3 (ipykernel)",
   "language": "python",
   "name": "python3"
  },
  "language_info": {
   "codemirror_mode": {
    "name": "ipython",
    "version": 3
   },
   "file_extension": ".py",
   "mimetype": "text/x-python",
   "name": "python",
   "nbconvert_exporter": "python",
   "pygments_lexer": "ipython3",
   "version": "3.10.6"
  }
 },
 "nbformat": 4,
 "nbformat_minor": 2
}
