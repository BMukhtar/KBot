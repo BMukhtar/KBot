{
 "cells": [
  {
   "cell_type": "code",
   "execution_count": 1,
   "metadata": {},
   "outputs": [
    {
     "data": {
      "text/plain": "'\\nInitial setup:\\n1) create virtualenv project using pycharm\\n\\n2) install the following libraries to virtualenv:\\npip install numpy\\npip install pandas\\npip install requests\\npip install beautifulsoup4\\npip install lxml\\n'"
     },
     "execution_count": 1,
     "metadata": {},
     "output_type": "execute_result"
    }
   ],
   "source": [
    "\"\"\"\n",
    "Initial setup:\n",
    "1) create virtualenv project using pycharm\n",
    "\n",
    "2) install the following libraries to virtualenv:\n",
    "pip install numpy\n",
    "pip install pandas\n",
    "pip install requests\n",
    "pip install beautifulsoup4\n",
    "pip install lxml\n",
    "\"\"\""
   ]
  },
  {
   "cell_type": "code",
   "execution_count": 2,
   "outputs": [],
   "source": [
    "import requests  # library to send requests to web site(krisha.kz)\n",
    "from bs4 import BeautifulSoup as bs  # library to copy all html-code\n",
    "import csv  # library to write info to csv\n",
    "import pandas as pd  # to convert csv to pandas DataFrame\n",
    "import numpy as np  # to work np. arrays\n",
    "import time\n",
    "import math\n",
    "import re"
   ],
   "metadata": {
    "collapsed": false
   }
  },
  {
   "cell_type": "code",
   "execution_count": 6,
   "outputs": [
    {
     "name": "stdout",
     "output_type": "stream",
     "text": [
      "parsing: https://kaspi.kz/shop/c/notebooks/\n",
      "parsing: https://kaspi.kz/shop/c/notebooks/?page=2\n",
      "parsing: https://kaspi.kz/shop/c/notebooks/?page=3\n",
      "parsing: https://kaspi.kz/shop/c/notebooks/?page=4\n",
      "parsing: https://kaspi.kz/shop/c/notebooks/?page=5\n",
      "parsing: https://kaspi.kz/shop/c/notebooks/?page=6\n",
      "parsing: https://kaspi.kz/shop/c/notebooks/?page=7\n",
      "parsing: https://kaspi.kz/shop/c/notebooks/?page=8\n",
      "parsing: https://kaspi.kz/shop/c/notebooks/?page=9\n",
      "parsing: https://kaspi.kz/shop/c/notebooks/?page=10\n",
      "parsing: https://kaspi.kz/shop/c/notebooks/?page=11\n",
      "parsing: https://kaspi.kz/shop/c/notebooks/?page=12\n",
      "parsing: https://kaspi.kz/shop/c/notebooks/?page=13\n",
      "parsing: https://kaspi.kz/shop/c/notebooks/?page=14\n",
      "parsing: https://kaspi.kz/shop/c/notebooks/?page=15\n",
      "parsing: https://kaspi.kz/shop/c/notebooks/?page=16\n",
      "parsing: https://kaspi.kz/shop/c/notebooks/?page=17\n",
      "parsing: https://kaspi.kz/shop/c/notebooks/?page=18\n",
      "parsing: https://kaspi.kz/shop/c/notebooks/?page=19\n",
      "parsing: https://kaspi.kz/shop/c/notebooks/?page=20\n",
      "parsing: https://kaspi.kz/shop/c/notebooks/?page=21\n",
      "parsing: https://kaspi.kz/shop/c/notebooks/?page=22\n",
      "parsing: https://kaspi.kz/shop/c/notebooks/?page=23\n",
      "parsing: https://kaspi.kz/shop/c/notebooks/?page=24\n",
      "parsing: https://kaspi.kz/shop/c/notebooks/?page=25\n",
      "parsing: https://kaspi.kz/shop/c/notebooks/?page=26\n",
      "parsing: https://kaspi.kz/shop/c/notebooks/?page=27\n",
      "parsing: https://kaspi.kz/shop/c/notebooks/?page=28\n",
      "parsing: https://kaspi.kz/shop/c/notebooks/?page=29\n",
      "parsing: https://kaspi.kz/shop/c/notebooks/?page=30\n",
      "parsing: https://kaspi.kz/shop/c/notebooks/?page=31\n",
      "parsing: https://kaspi.kz/shop/c/notebooks/?page=32\n",
      "parsing: https://kaspi.kz/shop/c/notebooks/?page=33\n",
      "parsing: https://kaspi.kz/shop/c/notebooks/?page=34\n",
      "parsing: https://kaspi.kz/shop/c/notebooks/?page=35\n",
      "parsing: https://kaspi.kz/shop/c/notebooks/?page=36\n",
      "parsing: https://kaspi.kz/shop/c/notebooks/?page=37\n",
      "parsing: https://kaspi.kz/shop/c/notebooks/?page=38\n",
      "parsing: https://kaspi.kz/shop/c/notebooks/?page=39\n",
      "parsing: https://kaspi.kz/shop/c/notebooks/?page=40\n",
      "parsing: https://kaspi.kz/shop/c/notebooks/?page=41\n",
      "parsing: https://kaspi.kz/shop/c/notebooks/?page=42\n",
      "parsing: https://kaspi.kz/shop/c/notebooks/?page=43\n",
      "parsing: https://kaspi.kz/shop/c/notebooks/?page=44\n",
      "parsing: https://kaspi.kz/shop/c/notebooks/?page=45\n",
      "parsing: https://kaspi.kz/shop/c/notebooks/?page=46\n",
      "parsing: https://kaspi.kz/shop/c/notebooks/?page=47\n",
      "parsing: https://kaspi.kz/shop/c/notebooks/?page=48\n",
      "parsing: https://kaspi.kz/shop/c/notebooks/?page=49\n",
      "parsing: https://kaspi.kz/shop/c/notebooks/?page=50\n",
      "parsing: https://kaspi.kz/shop/c/notebooks/?page=51\n",
      "parsing: https://kaspi.kz/shop/c/notebooks/?page=52\n",
      "parsing: https://kaspi.kz/shop/c/notebooks/?page=53\n",
      "parsing: https://kaspi.kz/shop/c/notebooks/?page=54\n",
      "parsing: https://kaspi.kz/shop/c/notebooks/?page=55\n",
      "parsing: https://kaspi.kz/shop/c/notebooks/?page=56\n",
      "parsing: https://kaspi.kz/shop/c/notebooks/?page=57\n",
      "parsing: https://kaspi.kz/shop/c/notebooks/?page=58\n",
      "parsing: https://kaspi.kz/shop/c/notebooks/?page=59\n",
      "parsing: https://kaspi.kz/shop/c/notebooks/?page=60\n",
      "parsing: https://kaspi.kz/shop/c/notebooks/?page=61\n",
      "parsing: https://kaspi.kz/shop/c/notebooks/?page=62\n",
      "parsing: https://kaspi.kz/shop/c/notebooks/?page=63\n",
      "parsing: https://kaspi.kz/shop/c/notebooks/?page=64\n",
      "parsing: https://kaspi.kz/shop/c/notebooks/?page=65\n",
      "parsing: https://kaspi.kz/shop/c/notebooks/?page=66\n",
      "parsing: https://kaspi.kz/shop/c/notebooks/?page=67\n",
      "parsing: https://kaspi.kz/shop/c/notebooks/?page=68\n",
      "parsing: https://kaspi.kz/shop/c/notebooks/?page=69\n",
      "parsing: https://kaspi.kz/shop/c/notebooks/?page=70\n",
      "parsing: https://kaspi.kz/shop/c/notebooks/?page=71\n",
      "parsing: https://kaspi.kz/shop/c/notebooks/?page=72\n",
      "parsing: https://kaspi.kz/shop/c/notebooks/?page=73\n",
      "parsing: https://kaspi.kz/shop/c/notebooks/?page=74\n",
      "parsing: https://kaspi.kz/shop/c/notebooks/?page=75\n",
      "parsing: https://kaspi.kz/shop/c/notebooks/?page=76\n",
      "parsing: https://kaspi.kz/shop/c/notebooks/?page=77\n",
      "parsing: https://kaspi.kz/shop/c/notebooks/?page=78\n",
      "parsing: https://kaspi.kz/shop/c/notebooks/?page=79\n",
      "parsing: https://kaspi.kz/shop/c/notebooks/?page=80\n",
      "parsing: https://kaspi.kz/shop/c/notebooks/?page=81\n",
      "parsing: https://kaspi.kz/shop/c/notebooks/?page=82\n",
      "parsing: https://kaspi.kz/shop/c/notebooks/?page=83\n",
      "parsing: https://kaspi.kz/shop/c/notebooks/?page=84\n",
      "parsing: https://kaspi.kz/shop/c/notebooks/?page=85\n",
      "parsing: https://kaspi.kz/shop/c/notebooks/?page=86\n",
      "parsing: https://kaspi.kz/shop/c/notebooks/?page=87\n",
      "parsing: https://kaspi.kz/shop/c/notebooks/?page=88\n",
      "parsing: https://kaspi.kz/shop/c/notebooks/?page=89\n",
      "parsing: https://kaspi.kz/shop/c/notebooks/?page=90\n",
      "parsing: https://kaspi.kz/shop/c/notebooks/?page=91\n",
      "parsing: https://kaspi.kz/shop/c/notebooks/?page=92\n",
      "parsing: https://kaspi.kz/shop/c/notebooks/?page=93\n",
      "parsing: https://kaspi.kz/shop/c/notebooks/?page=94\n",
      "parsing: https://kaspi.kz/shop/c/notebooks/?page=95\n",
      "parsing: https://kaspi.kz/shop/c/notebooks/?page=96\n",
      "parsing: https://kaspi.kz/shop/c/notebooks/?page=97\n",
      "parsing: https://kaspi.kz/shop/c/notebooks/?page=98\n",
      "parsing: https://kaspi.kz/shop/c/notebooks/?page=99\n",
      "parsing: https://kaspi.kz/shop/c/notebooks/?page=100\n",
      "parsing: https://kaspi.kz/shop/c/notebooks/?page=101\n",
      "parsing: https://kaspi.kz/shop/c/notebooks/?page=102\n",
      "parsing: https://kaspi.kz/shop/c/notebooks/?page=103\n",
      "parsing: https://kaspi.kz/shop/c/notebooks/?page=104\n",
      "parsing: https://kaspi.kz/shop/c/notebooks/?page=105\n",
      "parsing: https://kaspi.kz/shop/c/notebooks/?page=106\n",
      "parsing: https://kaspi.kz/shop/c/notebooks/?page=107\n",
      "parsing: https://kaspi.kz/shop/c/notebooks/?page=108\n",
      "parsing: https://kaspi.kz/shop/c/notebooks/?page=109\n",
      "parsing: https://kaspi.kz/shop/c/notebooks/?page=110\n",
      "parsing: https://kaspi.kz/shop/c/notebooks/?page=111\n",
      "parsing: https://kaspi.kz/shop/c/notebooks/?page=112\n",
      "parsing: https://kaspi.kz/shop/c/notebooks/?page=113\n",
      "parsing: https://kaspi.kz/shop/c/notebooks/?page=114\n",
      "1368\n"
     ]
    }
   ],
   "source": [
    "headers = {\n",
    "    'accept': '*/*',\n",
    "    'User-Agent': 'Mozilla/5.0 (Macintosh; Intel Mac OS X 10_15_7) AppleWebKit/537.36 (KHTML, like Gecko) Chrome/106.0.0.0 Safari/537.36'\n",
    "}\n",
    "\n",
    "items_per_page = 12\n",
    "\n",
    "def get_all_pages(catalog_page_url):\n",
    "    urls = []\n",
    "    urls.append(catalog_page_url)\n",
    "    session = requests.Session()\n",
    "    request = session.get(catalog_page_url, headers=headers)\n",
    "\n",
    "    if request.status_code == 200:\n",
    "        soup = bs(request.content, 'lxml')\n",
    "        try:\n",
    "            pagination = soup.select('li.tree__item._expanded._active')\n",
    "            total_items = int(re.sub('\\D', '', pagination[0].text))\n",
    "            pages = math.ceil(total_items / items_per_page)\n",
    "            for i in range(2, pages):\n",
    "                url = catalog_page_url + '?page={i}'.format(i=i)\n",
    "                if url not in urls:\n",
    "                    urls.append(url)\n",
    "        except Exception as e:\n",
    "            print(\"exception while getting all page urls: \" + e)\n",
    "            pass\n",
    "    return urls\n",
    "\n",
    "def parse_kaspi_pages(urls):\n",
    "    items = []\n",
    "    session = requests.Session()\n",
    "    for url in urls:\n",
    "        time.sleep(1)\n",
    "        print(\"parsing: \" + url)\n",
    "\n",
    "        request = session.get(url, headers=headers)\n",
    "        soup = bs(request.content, 'lxml')\n",
    "        divs = soup.find_all('div', attrs={'class': 'item-card ddl_product'})\n",
    "        for div in divs:\n",
    "            title = div.find('a', attrs={'class': 'item-card__name ddl_product_link'}).string.strip()\n",
    "            price = div.find('span', attrs={'class': 'item-card__prices-price'}).string.strip()\n",
    "            rating_div = div.find('div', attrs={'class': 'item-card__rating'})\n",
    "            rating_element = rating_div.find('a', attrs={'class': 'ddl_product_link'})\n",
    "            rating = \"\"\n",
    "            if rating_element is not None:\n",
    "                rating = re.search(r'\\d+', str(rating_element.string)).group()\n",
    "\n",
    "            items.append({\n",
    "                'title': title,\n",
    "                'price': price,\n",
    "                'rating': rating,\n",
    "            })\n",
    "    print(len(items))\n",
    "    return items\n",
    "\n",
    "\n",
    "def files_writer(flats):\n",
    "    # with open('HeadHunter.csv', 'a', encoding='utf-8') as file:\n",
    "    with open(r\"Kaspi.csv\", \"w\", encoding='utf-8') as file:\n",
    "        a_pen = csv.writer(file)\n",
    "        a_pen.writerow(('title', 'price', 'rating'))\n",
    "        for flat in flats:\n",
    "            a_pen.writerow((flat['title'], flat['price'], flat['rating']))\n",
    "\n",
    "base_url = 'https://kaspi.kz/shop/c/notebooks/'\n",
    "urls = get_all_pages(base_url)\n",
    "items = parse_kaspi_pages(urls)\n",
    "files_writer(items)"
   ],
   "metadata": {
    "collapsed": false
   }
  },
  {
   "cell_type": "code",
   "execution_count": 10,
   "metadata": {},
   "outputs": [],
   "source": [
    "df = pd.read_csv('Kaspi.csv')"
   ]
  },
  {
   "cell_type": "code",
   "execution_count": null,
   "metadata": {
    "pycharm": {
     "is_executing": true
    }
   },
   "outputs": [],
   "source": [
    "df.head()"
   ]
  },
  {
   "cell_type": "code",
   "execution_count": null,
   "metadata": {
    "pycharm": {
     "is_executing": true
    }
   },
   "outputs": [],
   "source": [
    "df.shape"
   ]
  },
  {
   "cell_type": "code",
   "execution_count": null,
   "metadata": {
    "pycharm": {
     "is_executing": true
    }
   },
   "outputs": [],
   "source": [
    "new = df[\"title\"].str.split(\",\", expand = True)\n",
    "df[\"rooms\"]= new[0]\n",
    "df[\"square\"]= new[1] \n",
    "#df[\"floor\"]=new[2]\n",
    "df.drop(columns =[\"title\"], inplace = True)\n",
    "\n",
    "new = df[\"address\"].str.split(\",\", expand = True)\n",
    "df[\"district\"]= new[0]\n",
    "df[\"street\"]= new[1]\n",
    "df.drop(columns =[\"address\"], inplace = True)\n",
    "\n",
    "new = df[\"district\"].str.split(expand = True)\n",
    "df[\"district\"] = new[0]\n",
    "\n",
    "new = df[\"square\"].str.split(expand = True)\n",
    "df[\"square\"] = new[0]\n",
    "df['square']=pd.to_numeric(df['square'])\n",
    "\n",
    "df.drop(columns =[\"href\"], inplace = True)\n",
    "\n",
    "new = df[\"price\"].str.split(expand = True)\n",
    "new = new[0]+new[1]\n",
    "df[\"price\"] = new\n",
    "df['price']=pd.to_numeric(df['price'])\n",
    "df.loc[df.price <= 10000,'price'] = df.price * 1000\n",
    "\n",
    "new = df['rooms'].str.split('-', expand = True)\n",
    "df['rooms'] = new[0]\n",
    "\n",
    "df.drop(columns =[\"street\"], inplace = True)\n",
    "\n",
    "#new = df['floor'].str.split('/', expand = True)\n",
    "#df['floor'] = new[0]\n",
    "#new = new.dropna()\n",
    "#new = new[1].str.split(' ',expand = True)\n",
    "#df['total floors'] = new[0]\n",
    "\n",
    "df = df.dropna()\n",
    "\n",
    "districts = ['Алмалинский','Бостандыкский','Ауэзовский','Медеуский','Жетысуский','Наурызбайский','Алатауский','Турксибский']\n",
    "df = df[df['district'].isin(districts)]\n",
    "\n",
    "year = list(df['content'])\n",
    "yeardf=[]\n",
    "for years in year:\n",
    "    years = years[years.find(\"г.п.\")-5:years.find(\"г.п.\")-1]\n",
    "    yeardf.append(years)\n",
    "df['year'] = yeardf\n",
    "\n",
    "df.drop(columns = [\"content\"], inplace = True)\n",
    "\n",
    "df['yearisnull'] = df['year'].str.find('    ')\n",
    "df = df.loc[df.yearisnull != 0]\n",
    "\n",
    "df.drop(columns =[\"yearisnull\"], inplace = True)\n",
    "\n",
    "df['rooms']=pd.to_numeric(df['rooms'])\n",
    "#df = df.loc[df.rooms!=11]"
   ]
  },
  {
   "cell_type": "code",
   "execution_count": null,
   "metadata": {
    "pycharm": {
     "is_executing": true
    }
   },
   "outputs": [],
   "source": [
    "df.head()"
   ]
  },
  {
   "cell_type": "code",
   "execution_count": null,
   "metadata": {
    "pycharm": {
     "is_executing": true
    }
   },
   "outputs": [],
   "source": [
    "df.shape"
   ]
  },
  {
   "cell_type": "code",
   "execution_count": null,
   "metadata": {
    "pycharm": {
     "is_executing": true
    }
   },
   "outputs": [],
   "source": [
    "import matplotlib as mpl\n",
    "import matplotlib.pyplot as plt"
   ]
  },
  {
   "cell_type": "code",
   "execution_count": null,
   "metadata": {
    "pycharm": {
     "is_executing": true
    }
   },
   "outputs": [],
   "source": [
    "df1 = df.groupby(['district']).size().reset_index(name='count')\n",
    "df1.sort_values(by=['count'], inplace=True)\n",
    "df1"
   ]
  },
  {
   "cell_type": "code",
   "execution_count": null,
   "metadata": {
    "pycharm": {
     "is_executing": true
    }
   },
   "outputs": [],
   "source": [
    "df1.set_index('district', inplace=True)"
   ]
  },
  {
   "cell_type": "code",
   "execution_count": null,
   "metadata": {
    "pycharm": {
     "is_executing": true
    }
   },
   "outputs": [],
   "source": [
    "df1.plot(kind='barh', \n",
    "             stacked=False,\n",
    "             figsize=(20, 10),\n",
    "             color='g',\n",
    "             label=df1['count']\n",
    "             )\n",
    "\n",
    "plt.title('Распределение арендного жилья в городе Алматы')\n",
    "plt.xlabel('Количество квартир')\n",
    "plt.ylabel('Районы')\n",
    "plt.show()"
   ]
  },
  {
   "cell_type": "code",
   "execution_count": null,
   "metadata": {
    "pycharm": {
     "is_executing": true
    }
   },
   "outputs": [],
   "source": [
    "df.plot(kind='scatter', x='price', y='square', figsize=(12, 9), color='darkblue')\n",
    "\n",
    "plt.title('Зависимость стоимости аренды от площади квартиры')\n",
    "plt.xlabel('Стоимость аренды')\n",
    "plt.ylabel('Площадь')\n",
    "\n",
    "x = df['price']\n",
    "y = df['square']\n",
    "fit = np.polyfit(x, y, deg=1)\n",
    "plt.plot(x, fit[0] * x + fit[1], color='red')\n",
    "\n",
    "plt.show()"
   ]
  },
  {
   "cell_type": "code",
   "execution_count": null,
   "metadata": {
    "pycharm": {
     "is_executing": true
    }
   },
   "outputs": [],
   "source": [
    "df2 = df.loc[df.price <= 200000]"
   ]
  },
  {
   "cell_type": "code",
   "execution_count": null,
   "metadata": {
    "pycharm": {
     "is_executing": true
    }
   },
   "outputs": [],
   "source": [
    "df2.head()"
   ]
  },
  {
   "cell_type": "code",
   "execution_count": null,
   "metadata": {
    "pycharm": {
     "is_executing": true
    }
   },
   "outputs": [],
   "source": [
    "df2.shape"
   ]
  },
  {
   "cell_type": "code",
   "execution_count": null,
   "metadata": {
    "pycharm": {
     "is_executing": true
    }
   },
   "outputs": [],
   "source": [
    "df2.plot(kind='scatter', x='price', y='square', figsize=(12, 9), color='darkblue')\n",
    "\n",
    "plt.title('Зависимость стоимости аренды от площади квартиры')\n",
    "plt.xlabel('Стоимость аренды')\n",
    "plt.ylabel('Площадь')\n",
    "\n",
    "x = df2['price']\n",
    "y = df2['square']\n",
    "fit = np.polyfit(x, y, deg=1)\n",
    "plt.plot(x, fit[0] * x + fit[1], color='red')\n",
    "\n",
    "plt.show()"
   ]
  },
  {
   "cell_type": "code",
   "execution_count": null,
   "metadata": {
    "pycharm": {
     "is_executing": true
    }
   },
   "outputs": [],
   "source": [
    "df4 = df.groupby(['district']).sum()\n",
    "#df4.sort_values(by=['count'], inplace=True)\n",
    "df4"
   ]
  },
  {
   "cell_type": "code",
   "execution_count": null,
   "metadata": {
    "pycharm": {
     "is_executing": true
    }
   },
   "outputs": [],
   "source": [
    "n_groups = 8\n",
    "\n",
    "# create plot\n",
    "fig, ax = plt.subplots()\n",
    "index = np.arange(n_groups)\n",
    "bar_width = 0.35\n",
    "\n",
    "rects1 = plt.barh(index + bar_width, df4['owner'], bar_width,\n",
    "color='b',\n",
    "label='Хозяин')\n",
    "\n",
    "rects2 = plt.barh(index, df4['specialist'], bar_width,\n",
    "color='g',\n",
    "label='Риэлтор')\n",
    "\n",
    "plt.ylabel('Районы')\n",
    "plt.xlabel('Количество квартир')\n",
    "plt.title('Распределение арендного жилья в городе Алматы')\n",
    "plt.yticks(index + bar_width/2, df4.index)\n",
    "plt.legend()"
   ]
  },
  {
   "cell_type": "code",
   "execution_count": null,
   "metadata": {
    "pycharm": {
     "is_executing": true
    }
   },
   "outputs": [],
   "source": [
    "df.head()"
   ]
  },
  {
   "cell_type": "code",
   "execution_count": null,
   "metadata": {
    "pycharm": {
     "is_executing": true
    }
   },
   "outputs": [],
   "source": [
    "df5 = df.groupby(['rooms']).size().reset_index(name='count')\n",
    "df5.sort_values(by=['count'], inplace=True)\n",
    "df5.set_index('rooms', inplace=True)\n",
    "df5"
   ]
  },
  {
   "cell_type": "code",
   "execution_count": null,
   "metadata": {
    "pycharm": {
     "is_executing": true
    }
   },
   "outputs": [],
   "source": [
    "df5.plot(kind='barh', \n",
    "             stacked=False,\n",
    "             figsize=(20, 10),\n",
    "             color='g',\n",
    "             label=df5['count']\n",
    "             )\n",
    "\n",
    "plt.title('Распределение арендного жилья в городе Алматы')\n",
    "plt.xlabel('Количество квартир')\n",
    "plt.ylabel('Районы')\n",
    "plt.show()"
   ]
  },
  {
   "cell_type": "code",
   "execution_count": null,
   "metadata": {
    "pycharm": {
     "is_executing": true
    }
   },
   "outputs": [],
   "source": [
    "df6 = df.groupby(['district','price']).size().reset_index(name='count')\n",
    "df6.sort_values(by=['count'], inplace=True)\n",
    "df6 = df6.pivot(index='price',columns='district',values='count')"
   ]
  },
  {
   "cell_type": "code",
   "execution_count": null,
   "metadata": {
    "pycharm": {
     "is_executing": true
    }
   },
   "outputs": [],
   "source": [
    "df6"
   ]
  },
  {
   "cell_type": "code",
   "execution_count": null,
   "metadata": {
    "pycharm": {
     "is_executing": true
    }
   },
   "outputs": [],
   "source": []
  }
 ],
 "metadata": {
  "kernelspec": {
   "display_name": "Python 3 (ipykernel)",
   "language": "python",
   "name": "python3"
  },
  "language_info": {
   "codemirror_mode": {
    "name": "ipython",
    "version": 3
   },
   "file_extension": ".py",
   "mimetype": "text/x-python",
   "name": "python",
   "nbconvert_exporter": "python",
   "pygments_lexer": "ipython3",
   "version": "3.10.6"
  }
 },
 "nbformat": 4,
 "nbformat_minor": 2
}
