{
 "cells": [
  {
   "cell_type": "code",
   "execution_count": null,
   "metadata": {},
   "outputs": [],
   "source": [
    "\"\"\"\n",
    "Initial setup:\n",
    "1) create virtualenv project using pycharm\n",
    "\n",
    "2) install the following libraries to virtualenv:\n",
    "pip install numpy\n",
    "pip install pandas\n",
    "pip install requests\n",
    "pip install beautifulsoup4\n",
    "pip install lxml\n",
    "\"\"\""
   ]
  },
  {
   "cell_type": "code",
   "execution_count": null,
   "outputs": [],
   "source": [
    "import requests  # library to send requests to web site(krisha.kz)\n",
    "from bs4 import BeautifulSoup as bs  # library to copy all html-code\n",
    "import time\n",
    "import math\n",
    "import re"
   ],
   "metadata": {
    "collapsed": false
   }
  },
  {
   "cell_type": "code",
   "execution_count": null,
   "outputs": [],
   "source": [
    "headers = {\n",
    "    'accept': '*/*',\n",
    "    'User-Agent': 'Mozilla/5.0 (Macintosh; Intel Mac OS X 10_15_7) AppleWebKit/537.36 (KHTML, like Gecko) Chrome/106.0.0.0 Safari/537.36'\n",
    "}\n",
    "\n",
    "items_per_page = 12\n",
    "\n",
    "def get_all_pages(catalog_page_url):\n",
    "    urls = []\n",
    "    urls.append(catalog_page_url)\n",
    "    session = requests.Session()\n",
    "    request = session.get(catalog_page_url, headers=headers)\n",
    "\n",
    "    if request.status_code == 200:\n",
    "        soup = bs(request.content, 'lxml')\n",
    "        try:\n",
    "            pagination = soup.select('li.tree__item._expanded._active')\n",
    "            total_items = int(re.sub('\\D', '', pagination[0].text))\n",
    "            pages = math.ceil(total_items / items_per_page)\n",
    "            for i in range(2, pages):\n",
    "                url = catalog_page_url + '?page={i}'.format(i=i)\n",
    "                if url not in urls:\n",
    "                    urls.append(url)\n",
    "        except Exception as e:\n",
    "            print(\"exception while getting all page urls: \" + e)\n",
    "            pass\n",
    "    return urls\n",
    "\n",
    "def parse_kaspi_pages(urls):\n",
    "    items = []\n",
    "    session = requests.Session()\n",
    "    for url in urls:\n",
    "        time.sleep(1)\n",
    "        print(\"parsing: \" + url)\n",
    "\n",
    "        request = session.get(url, headers=headers)\n",
    "        soup = bs(request.content, 'lxml')\n",
    "        divs = soup.find_all('div', attrs={'class': 'item-card ddl_product'})\n",
    "        for div in divs:\n",
    "            title = div.find('a', attrs={'class': 'item-card__name ddl_product_link'}).string.strip()\n",
    "            price = div.find('span', attrs={'class': 'item-card__prices-price'}).string.strip()\n",
    "            rating_div = div.find('div', attrs={'class': 'item-card__rating'})\n",
    "            rating_element = rating_div.find('a', attrs={'class': 'ddl_product_link'})\n",
    "            rating = \"\"\n",
    "            if rating_element is not None:\n",
    "                rating = re.search(r'\\d+', str(rating_element.string)).group()\n",
    "\n",
    "            items.append({\n",
    "                'title': title,\n",
    "                'price': price,\n",
    "                'rating': rating,\n",
    "            })\n",
    "    print(len(items))\n",
    "    return items\n",
    "\n",
    "\n",
    "def files_writer(flats):\n",
    "    # with open('HeadHunter.csv', 'a', encoding='utf-8') as file:\n",
    "    with open(r\"Kaspi.csv\", \"w\", encoding='utf-8') as file:\n",
    "        a_pen = csv.writer(file)\n",
    "        a_pen.writerow(('title', 'price', 'rating'))\n",
    "        for flat in flats:\n",
    "            a_pen.writerow((flat['title'], flat['price'], flat['rating']))\n",
    "\n",
    "base_url = 'https://kaspi.kz/shop/c/notebooks/'\n",
    "urls = get_all_pages(base_url)\n",
    "items = parse_kaspi_pages(urls)\n",
    "files_writer(items)"
   ],
   "metadata": {
    "collapsed": false
   }
  },
  {
   "cell_type": "code",
   "execution_count": null,
   "outputs": [],
   "source": [
    "import csv\n",
    "\n",
    "items = []\n",
    "with open('Kaspi_data.csv', newline='') as csvfile:\n",
    "    spamreader = csv.reader(csvfile, delimiter=',')\n",
    "    initial = True\n",
    "    for row in spamreader:\n",
    "        if not initial:\n",
    "            title = row[0].split(\" \")\n",
    "            price = re.sub('\\D', '', row[1])\n",
    "            rating = row[2]\n",
    "\n",
    "            items.append({\n",
    "                'brand': title[0],\n",
    "                'color': title[-1],\n",
    "                'full_name': ' '.join(title[:-1]),\n",
    "                'price': price,\n",
    "                'rating': rating,\n",
    "            })\n",
    "        else:\n",
    "            initial = False\n",
    "\n",
    "print(items[0])\n",
    "def files_writer(items):\n",
    "    # with open('HeadHunter.csv', 'a', encoding='utf-8') as file:\n",
    "    with open(r\"Kaspi_data.csv\", \"w\", encoding='utf-8') as file:\n",
    "        a_pen = csv.writer(file)\n",
    "        a_pen.writerow(('brand', 'color', 'full_name', 'price', 'rating'))\n",
    "        for item in items:\n",
    "            a_pen.writerow((item['brand'], item['color'], item['full_name'], item['price'], item['rating']))\n",
    "\n",
    "files_writer(items)"
   ],
   "metadata": {
    "collapsed": false
   }
  }
 ],
 "metadata": {
  "kernelspec": {
   "display_name": "Python 3 (ipykernel)",
   "language": "python",
   "name": "python3"
  },
  "language_info": {
   "codemirror_mode": {
    "name": "ipython",
    "version": 3
   },
   "file_extension": ".py",
   "mimetype": "text/x-python",
   "name": "python",
   "nbconvert_exporter": "python",
   "pygments_lexer": "ipython3",
   "version": "3.10.6"
  }
 },
 "nbformat": 4,
 "nbformat_minor": 2
}
